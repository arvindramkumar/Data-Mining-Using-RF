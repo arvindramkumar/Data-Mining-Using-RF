{
 "cells": [
  {
   "cell_type": "markdown",
   "metadata": {},
   "source": [
    "# Data Mining - IEE 520 Final Project "
   ]
  },
  {
   "cell_type": "markdown",
   "metadata": {},
   "source": [
    "## Submitted to - Dr. Runger"
   ]
  },
  {
   "cell_type": "markdown",
   "metadata": {},
   "source": [
    "## Submitted by - Arvind Ramkumar - ASU ID - 1213469749 "
   ]
  },
  {
   "cell_type": "markdown",
   "metadata": {},
   "source": [
    "### Importing Package "
   ]
  },
  {
   "cell_type": "code",
   "execution_count": 479,
   "metadata": {},
   "outputs": [],
   "source": [
    "import pandas as pd\n",
    "import numpy as np"
   ]
  },
  {
   "cell_type": "markdown",
   "metadata": {},
   "source": [
    "### Initially we split the training set into train and test to validate the model. Once we confirm the model, we fit the entire training set to estimate the test data.   "
   ]
  },
  {
   "cell_type": "code",
   "execution_count": 480,
   "metadata": {
    "scrolled": true
   },
   "outputs": [
    {
     "data": {
      "text/plain": [
       "(2500, 67)"
      ]
     },
     "execution_count": 480,
     "metadata": {},
     "output_type": "execute_result"
    }
   ],
   "source": [
    "# Load Data \n",
    "\n",
    "maindata = pd.read_csv(\"train.csv\")\n",
    "\n",
    "maindata.shape"
   ]
  },
  {
   "cell_type": "code",
   "execution_count": 481,
   "metadata": {},
   "outputs": [
    {
     "data": {
      "text/html": [
       "<div>\n",
       "<style scoped>\n",
       "    .dataframe tbody tr th:only-of-type {\n",
       "        vertical-align: middle;\n",
       "    }\n",
       "\n",
       "    .dataframe tbody tr th {\n",
       "        vertical-align: top;\n",
       "    }\n",
       "\n",
       "    .dataframe thead th {\n",
       "        text-align: right;\n",
       "    }\n",
       "</style>\n",
       "<table border=\"1\" class=\"dataframe\">\n",
       "  <thead>\n",
       "    <tr style=\"text-align: right;\">\n",
       "      <th></th>\n",
       "      <th>x1</th>\n",
       "      <th>x2</th>\n",
       "      <th>x3</th>\n",
       "      <th>x4</th>\n",
       "      <th>x5</th>\n",
       "      <th>x6</th>\n",
       "      <th>x7</th>\n",
       "      <th>x8</th>\n",
       "      <th>x9</th>\n",
       "      <th>x10</th>\n",
       "      <th>...</th>\n",
       "      <th>x58</th>\n",
       "      <th>x59</th>\n",
       "      <th>x60</th>\n",
       "      <th>x61</th>\n",
       "      <th>x62</th>\n",
       "      <th>x63</th>\n",
       "      <th>x64</th>\n",
       "      <th>x65</th>\n",
       "      <th>x66</th>\n",
       "      <th>y</th>\n",
       "    </tr>\n",
       "  </thead>\n",
       "  <tbody>\n",
       "    <tr>\n",
       "      <th>0</th>\n",
       "      <td>27</td>\n",
       "      <td>1</td>\n",
       "      <td>1</td>\n",
       "      <td>1</td>\n",
       "      <td>A</td>\n",
       "      <td>18</td>\n",
       "      <td>3</td>\n",
       "      <td>1</td>\n",
       "      <td>28</td>\n",
       "      <td>119.9</td>\n",
       "      <td>...</td>\n",
       "      <td>1</td>\n",
       "      <td>0</td>\n",
       "      <td>0</td>\n",
       "      <td>0</td>\n",
       "      <td>0</td>\n",
       "      <td>1</td>\n",
       "      <td>Mp</td>\n",
       "      <td>NPT</td>\n",
       "      <td>1</td>\n",
       "      <td>-1</td>\n",
       "    </tr>\n",
       "    <tr>\n",
       "      <th>1</th>\n",
       "      <td>30</td>\n",
       "      <td>0</td>\n",
       "      <td>1</td>\n",
       "      <td>1</td>\n",
       "      <td>B</td>\n",
       "      <td>18</td>\n",
       "      <td>13</td>\n",
       "      <td>3</td>\n",
       "      <td>19</td>\n",
       "      <td>86.7</td>\n",
       "      <td>...</td>\n",
       "      <td>1</td>\n",
       "      <td>0</td>\n",
       "      <td>0</td>\n",
       "      <td>0</td>\n",
       "      <td>0</td>\n",
       "      <td>0</td>\n",
       "      <td>Mm</td>\n",
       "      <td>NST</td>\n",
       "      <td>1</td>\n",
       "      <td>-1</td>\n",
       "    </tr>\n",
       "    <tr>\n",
       "      <th>2</th>\n",
       "      <td>37</td>\n",
       "      <td>0</td>\n",
       "      <td>1</td>\n",
       "      <td>1</td>\n",
       "      <td>A</td>\n",
       "      <td>1</td>\n",
       "      <td>3</td>\n",
       "      <td>14</td>\n",
       "      <td>33</td>\n",
       "      <td>174.0</td>\n",
       "      <td>...</td>\n",
       "      <td>1</td>\n",
       "      <td>0</td>\n",
       "      <td>0</td>\n",
       "      <td>0</td>\n",
       "      <td>0</td>\n",
       "      <td>0</td>\n",
       "      <td>Mp</td>\n",
       "      <td>NPT</td>\n",
       "      <td>0</td>\n",
       "      <td>1</td>\n",
       "    </tr>\n",
       "    <tr>\n",
       "      <th>3</th>\n",
       "      <td>29</td>\n",
       "      <td>0</td>\n",
       "      <td>1</td>\n",
       "      <td>1</td>\n",
       "      <td>C</td>\n",
       "      <td>14</td>\n",
       "      <td>9</td>\n",
       "      <td>3</td>\n",
       "      <td>29</td>\n",
       "      <td>8.8</td>\n",
       "      <td>...</td>\n",
       "      <td>0</td>\n",
       "      <td>0</td>\n",
       "      <td>0</td>\n",
       "      <td>0</td>\n",
       "      <td>0</td>\n",
       "      <td>0</td>\n",
       "      <td>Mp</td>\n",
       "      <td>NST</td>\n",
       "      <td>0</td>\n",
       "      <td>-1</td>\n",
       "    </tr>\n",
       "    <tr>\n",
       "      <th>4</th>\n",
       "      <td>33</td>\n",
       "      <td>1</td>\n",
       "      <td>1</td>\n",
       "      <td>0</td>\n",
       "      <td>E</td>\n",
       "      <td>2</td>\n",
       "      <td>15</td>\n",
       "      <td>12</td>\n",
       "      <td>39</td>\n",
       "      <td>55.0</td>\n",
       "      <td>...</td>\n",
       "      <td>1</td>\n",
       "      <td>0</td>\n",
       "      <td>0</td>\n",
       "      <td>0</td>\n",
       "      <td>0</td>\n",
       "      <td>0</td>\n",
       "      <td>Mm</td>\n",
       "      <td>NST</td>\n",
       "      <td>1</td>\n",
       "      <td>-1</td>\n",
       "    </tr>\n",
       "  </tbody>\n",
       "</table>\n",
       "<p>5 rows × 67 columns</p>\n",
       "</div>"
      ],
      "text/plain": [
       "   x1  x2  x3  x4 x5  x6  x7  x8  x9    x10 ...  x58  x59 x60  x61  x62  x63  \\\n",
       "0  27   1   1   1  A  18   3   1  28  119.9 ...    1    0   0    0    0    1   \n",
       "1  30   0   1   1  B  18  13   3  19   86.7 ...    1    0   0    0    0    0   \n",
       "2  37   0   1   1  A   1   3  14  33  174.0 ...    1    0   0    0    0    0   \n",
       "3  29   0   1   1  C  14   9   3  29    8.8 ...    0    0   0    0    0    0   \n",
       "4  33   1   1   0  E   2  15  12  39   55.0 ...    1    0   0    0    0    0   \n",
       "\n",
       "   x64  x65  x66  y  \n",
       "0   Mp  NPT    1 -1  \n",
       "1   Mm  NST    1 -1  \n",
       "2   Mp  NPT    0  1  \n",
       "3   Mp  NST    0 -1  \n",
       "4   Mm  NST    1 -1  \n",
       "\n",
       "[5 rows x 67 columns]"
      ]
     },
     "execution_count": 481,
     "metadata": {},
     "output_type": "execute_result"
    }
   ],
   "source": [
    "maindata.head()"
   ]
  },
  {
   "cell_type": "markdown",
   "metadata": {},
   "source": [
    "## Class Distribution "
   ]
  },
  {
   "cell_type": "code",
   "execution_count": 482,
   "metadata": {},
   "outputs": [
    {
     "data": {
      "text/plain": [
       "<matplotlib.axes._subplots.AxesSubplot at 0x1a41a41828>"
      ]
     },
     "execution_count": 482,
     "metadata": {},
     "output_type": "execute_result"
    },
    {
     "data": {
      "image/png": "[encoded data removed]",
      "text/plain": [
       "<Figure size 432x288 with 1 Axes>"
      ]
     },
     "metadata": {},
     "output_type": "display_data"
    }
   ],
   "source": [
    "# Now lets check the class distributions\n",
    "\n",
    "import matplotlib.pyplot as plt \n",
    "import seaborn as sns \n",
    "\n",
    "%matplotlib inline \n",
    "\n",
    "sns.countplot(\"y\",data=maindata)"
   ]
  },
  {
   "cell_type": "markdown",
   "metadata": {},
   "source": [
    "There is a clear class imbalance. We resample by the upsampling method to deal with this. We choose upsample over downsample, because there is a high chance of loosing all the important data. So upsample is preferred.\n",
    "\n",
    "\n"
   ]
  },
  {
   "cell_type": "markdown",
   "metadata": {},
   "source": [
    "We split the existing dataset into train and test. we upsample the train data to handle the class imbalance and we measure the model based on the test set. "
   ]
  },
  {
   "cell_type": "markdown",
   "metadata": {},
   "source": [
    "## Handling Categorical Variables "
   ]
  },
  {
   "cell_type": "code",
   "execution_count": 483,
   "metadata": {},
   "outputs": [
    {
     "data": {
      "text/html": [
       "<div>\n",
       "<style scoped>\n",
       "    .dataframe tbody tr th:only-of-type {\n",
       "        vertical-align: middle;\n",
       "    }\n",
       "\n",
       "    .dataframe tbody tr th {\n",
       "        vertical-align: top;\n",
       "    }\n",
       "\n",
       "    .dataframe thead th {\n",
       "        text-align: right;\n",
       "    }\n",
       "</style>\n",
       "<table border=\"1\" class=\"dataframe\">\n",
       "  <thead>\n",
       "    <tr style=\"text-align: right;\">\n",
       "      <th></th>\n",
       "      <th>x1</th>\n",
       "      <th>x2</th>\n",
       "      <th>x3</th>\n",
       "      <th>x4</th>\n",
       "      <th>x5</th>\n",
       "      <th>x6</th>\n",
       "      <th>x7</th>\n",
       "      <th>x8</th>\n",
       "      <th>x9</th>\n",
       "      <th>x10</th>\n",
       "      <th>...</th>\n",
       "      <th>x58</th>\n",
       "      <th>x59</th>\n",
       "      <th>x60</th>\n",
       "      <th>x61</th>\n",
       "      <th>x62</th>\n",
       "      <th>x63</th>\n",
       "      <th>x64</th>\n",
       "      <th>x65</th>\n",
       "      <th>x66</th>\n",
       "      <th>y</th>\n",
       "    </tr>\n",
       "  </thead>\n",
       "  <tbody>\n",
       "    <tr>\n",
       "      <th>0</th>\n",
       "      <td>27</td>\n",
       "      <td>1</td>\n",
       "      <td>1</td>\n",
       "      <td>1</td>\n",
       "      <td>0</td>\n",
       "      <td>18</td>\n",
       "      <td>3</td>\n",
       "      <td>1</td>\n",
       "      <td>28</td>\n",
       "      <td>119.9</td>\n",
       "      <td>...</td>\n",
       "      <td>1</td>\n",
       "      <td>0</td>\n",
       "      <td>0</td>\n",
       "      <td>0</td>\n",
       "      <td>0</td>\n",
       "      <td>1</td>\n",
       "      <td>3</td>\n",
       "      <td>0</td>\n",
       "      <td>1</td>\n",
       "      <td>-1</td>\n",
       "    </tr>\n",
       "    <tr>\n",
       "      <th>1</th>\n",
       "      <td>30</td>\n",
       "      <td>0</td>\n",
       "      <td>1</td>\n",
       "      <td>1</td>\n",
       "      <td>1</td>\n",
       "      <td>18</td>\n",
       "      <td>13</td>\n",
       "      <td>3</td>\n",
       "      <td>19</td>\n",
       "      <td>86.7</td>\n",
       "      <td>...</td>\n",
       "      <td>1</td>\n",
       "      <td>0</td>\n",
       "      <td>0</td>\n",
       "      <td>0</td>\n",
       "      <td>0</td>\n",
       "      <td>0</td>\n",
       "      <td>2</td>\n",
       "      <td>1</td>\n",
       "      <td>1</td>\n",
       "      <td>-1</td>\n",
       "    </tr>\n",
       "    <tr>\n",
       "      <th>2</th>\n",
       "      <td>37</td>\n",
       "      <td>0</td>\n",
       "      <td>1</td>\n",
       "      <td>1</td>\n",
       "      <td>0</td>\n",
       "      <td>1</td>\n",
       "      <td>3</td>\n",
       "      <td>14</td>\n",
       "      <td>33</td>\n",
       "      <td>174.0</td>\n",
       "      <td>...</td>\n",
       "      <td>1</td>\n",
       "      <td>0</td>\n",
       "      <td>0</td>\n",
       "      <td>0</td>\n",
       "      <td>0</td>\n",
       "      <td>0</td>\n",
       "      <td>3</td>\n",
       "      <td>0</td>\n",
       "      <td>0</td>\n",
       "      <td>1</td>\n",
       "    </tr>\n",
       "    <tr>\n",
       "      <th>3</th>\n",
       "      <td>29</td>\n",
       "      <td>0</td>\n",
       "      <td>1</td>\n",
       "      <td>1</td>\n",
       "      <td>2</td>\n",
       "      <td>14</td>\n",
       "      <td>9</td>\n",
       "      <td>3</td>\n",
       "      <td>29</td>\n",
       "      <td>8.8</td>\n",
       "      <td>...</td>\n",
       "      <td>0</td>\n",
       "      <td>0</td>\n",
       "      <td>0</td>\n",
       "      <td>0</td>\n",
       "      <td>0</td>\n",
       "      <td>0</td>\n",
       "      <td>3</td>\n",
       "      <td>1</td>\n",
       "      <td>0</td>\n",
       "      <td>-1</td>\n",
       "    </tr>\n",
       "    <tr>\n",
       "      <th>4</th>\n",
       "      <td>33</td>\n",
       "      <td>1</td>\n",
       "      <td>1</td>\n",
       "      <td>0</td>\n",
       "      <td>4</td>\n",
       "      <td>2</td>\n",
       "      <td>15</td>\n",
       "      <td>12</td>\n",
       "      <td>39</td>\n",
       "      <td>55.0</td>\n",
       "      <td>...</td>\n",
       "      <td>1</td>\n",
       "      <td>0</td>\n",
       "      <td>0</td>\n",
       "      <td>0</td>\n",
       "      <td>0</td>\n",
       "      <td>0</td>\n",
       "      <td>2</td>\n",
       "      <td>1</td>\n",
       "      <td>1</td>\n",
       "      <td>-1</td>\n",
       "    </tr>\n",
       "  </tbody>\n",
       "</table>\n",
       "<p>5 rows × 67 columns</p>\n",
       "</div>"
      ],
      "text/plain": [
       "   x1  x2  x3  x4  x5  x6  x7  x8  x9    x10 ...  x58  x59  x60  x61  x62  \\\n",
       "0  27   1   1   1   0  18   3   1  28  119.9 ...    1    0    0    0    0   \n",
       "1  30   0   1   1   1  18  13   3  19   86.7 ...    1    0    0    0    0   \n",
       "2  37   0   1   1   0   1   3  14  33  174.0 ...    1    0    0    0    0   \n",
       "3  29   0   1   1   2  14   9   3  29    8.8 ...    0    0    0    0    0   \n",
       "4  33   1   1   0   4   2  15  12  39   55.0 ...    1    0    0    0    0   \n",
       "\n",
       "   x63  x64  x65  x66  y  \n",
       "0    1    3    0    1 -1  \n",
       "1    0    2    1    1 -1  \n",
       "2    0    3    0    0  1  \n",
       "3    0    3    1    0 -1  \n",
       "4    0    2    1    1 -1  \n",
       "\n",
       "[5 rows x 67 columns]"
      ]
     },
     "execution_count": 483,
     "metadata": {},
     "output_type": "execute_result"
    }
   ],
   "source": [
    "from sklearn.preprocessing import LabelEncoder\n",
    "le = LabelEncoder()\n",
    "\n",
    "maindata['x5'] = le.fit_transform(maindata['x5'])\n",
    "maindata['x13'] = le.fit_transform(maindata['x13'])\n",
    "maindata['x64'] = le.fit_transform(maindata['x64'])\n",
    "maindata['x65'] = le.fit_transform(maindata['x65'])\n",
    "\n",
    "maindata.head()"
   ]
  },
  {
   "cell_type": "markdown",
   "metadata": {},
   "source": [
    "## Split the Entire Set into Test and Train  "
   ]
  },
  {
   "cell_type": "code",
   "execution_count": 484,
   "metadata": {},
   "outputs": [],
   "source": [
    "# Splitting the Train and Test Data \n",
    "\n",
    "from sklearn.model_selection import train_test_split\n",
    "\n",
    "data_train, data_test = train_test_split(maindata, test_size = 0.2, random_state = 123)"
   ]
  },
  {
   "cell_type": "code",
   "execution_count": 485,
   "metadata": {},
   "outputs": [],
   "source": [
    "#list(data_test)"
   ]
  },
  {
   "cell_type": "markdown",
   "metadata": {},
   "source": [
    "## Data Assigning for Test Data "
   ]
  },
  {
   "cell_type": "code",
   "execution_count": 486,
   "metadata": {},
   "outputs": [],
   "source": [
    "# Assign Data \n",
    "\n",
    "xtest = data_test.iloc[:,:-1]\n",
    "ytest = data_test.iloc[:,66]\n",
    "\n",
    "#xtest = xtest.drop(['y'], axis = 1)"
   ]
  },
  {
   "cell_type": "code",
   "execution_count": 487,
   "metadata": {},
   "outputs": [
    {
     "data": {
      "text/html": [
       "<div>\n",
       "<style scoped>\n",
       "    .dataframe tbody tr th:only-of-type {\n",
       "        vertical-align: middle;\n",
       "    }\n",
       "\n",
       "    .dataframe tbody tr th {\n",
       "        vertical-align: top;\n",
       "    }\n",
       "\n",
       "    .dataframe thead th {\n",
       "        text-align: right;\n",
       "    }\n",
       "</style>\n",
       "<table border=\"1\" class=\"dataframe\">\n",
       "  <thead>\n",
       "    <tr style=\"text-align: right;\">\n",
       "      <th></th>\n",
       "      <th>x1</th>\n",
       "      <th>x2</th>\n",
       "      <th>x3</th>\n",
       "      <th>x4</th>\n",
       "      <th>x5</th>\n",
       "      <th>x6</th>\n",
       "      <th>x7</th>\n",
       "      <th>x8</th>\n",
       "      <th>x9</th>\n",
       "      <th>x10</th>\n",
       "      <th>...</th>\n",
       "      <th>x57</th>\n",
       "      <th>x58</th>\n",
       "      <th>x59</th>\n",
       "      <th>x60</th>\n",
       "      <th>x61</th>\n",
       "      <th>x62</th>\n",
       "      <th>x63</th>\n",
       "      <th>x64</th>\n",
       "      <th>x65</th>\n",
       "      <th>x66</th>\n",
       "    </tr>\n",
       "  </thead>\n",
       "  <tbody>\n",
       "    <tr>\n",
       "      <th>2386</th>\n",
       "      <td>29</td>\n",
       "      <td>0</td>\n",
       "      <td>1</td>\n",
       "      <td>1</td>\n",
       "      <td>0</td>\n",
       "      <td>9</td>\n",
       "      <td>7</td>\n",
       "      <td>13</td>\n",
       "      <td>33</td>\n",
       "      <td>188.6</td>\n",
       "      <td>...</td>\n",
       "      <td>0</td>\n",
       "      <td>1</td>\n",
       "      <td>0</td>\n",
       "      <td>0</td>\n",
       "      <td>0</td>\n",
       "      <td>0</td>\n",
       "      <td>0</td>\n",
       "      <td>3</td>\n",
       "      <td>0</td>\n",
       "      <td>1</td>\n",
       "    </tr>\n",
       "    <tr>\n",
       "      <th>1298</th>\n",
       "      <td>27</td>\n",
       "      <td>1</td>\n",
       "      <td>1</td>\n",
       "      <td>0</td>\n",
       "      <td>0</td>\n",
       "      <td>16</td>\n",
       "      <td>8</td>\n",
       "      <td>0</td>\n",
       "      <td>28</td>\n",
       "      <td>163.1</td>\n",
       "      <td>...</td>\n",
       "      <td>0</td>\n",
       "      <td>0</td>\n",
       "      <td>0</td>\n",
       "      <td>0</td>\n",
       "      <td>0</td>\n",
       "      <td>1</td>\n",
       "      <td>0</td>\n",
       "      <td>3</td>\n",
       "      <td>0</td>\n",
       "      <td>1</td>\n",
       "    </tr>\n",
       "    <tr>\n",
       "      <th>1995</th>\n",
       "      <td>33</td>\n",
       "      <td>1</td>\n",
       "      <td>0</td>\n",
       "      <td>1</td>\n",
       "      <td>0</td>\n",
       "      <td>3</td>\n",
       "      <td>14</td>\n",
       "      <td>6</td>\n",
       "      <td>24</td>\n",
       "      <td>121.9</td>\n",
       "      <td>...</td>\n",
       "      <td>0</td>\n",
       "      <td>0</td>\n",
       "      <td>0</td>\n",
       "      <td>0</td>\n",
       "      <td>0</td>\n",
       "      <td>0</td>\n",
       "      <td>1</td>\n",
       "      <td>2</td>\n",
       "      <td>1</td>\n",
       "      <td>1</td>\n",
       "    </tr>\n",
       "    <tr>\n",
       "      <th>2097</th>\n",
       "      <td>29</td>\n",
       "      <td>1</td>\n",
       "      <td>1</td>\n",
       "      <td>0</td>\n",
       "      <td>4</td>\n",
       "      <td>13</td>\n",
       "      <td>14</td>\n",
       "      <td>18</td>\n",
       "      <td>41</td>\n",
       "      <td>89.4</td>\n",
       "      <td>...</td>\n",
       "      <td>1</td>\n",
       "      <td>0</td>\n",
       "      <td>0</td>\n",
       "      <td>1</td>\n",
       "      <td>0</td>\n",
       "      <td>0</td>\n",
       "      <td>0</td>\n",
       "      <td>3</td>\n",
       "      <td>3</td>\n",
       "      <td>0</td>\n",
       "    </tr>\n",
       "    <tr>\n",
       "      <th>289</th>\n",
       "      <td>37</td>\n",
       "      <td>1</td>\n",
       "      <td>1</td>\n",
       "      <td>1</td>\n",
       "      <td>3</td>\n",
       "      <td>3</td>\n",
       "      <td>4</td>\n",
       "      <td>5</td>\n",
       "      <td>30</td>\n",
       "      <td>42.6</td>\n",
       "      <td>...</td>\n",
       "      <td>0</td>\n",
       "      <td>0</td>\n",
       "      <td>0</td>\n",
       "      <td>0</td>\n",
       "      <td>0</td>\n",
       "      <td>0</td>\n",
       "      <td>1</td>\n",
       "      <td>3</td>\n",
       "      <td>2</td>\n",
       "      <td>0</td>\n",
       "    </tr>\n",
       "  </tbody>\n",
       "</table>\n",
       "<p>5 rows × 66 columns</p>\n",
       "</div>"
      ],
      "text/plain": [
       "      x1  x2  x3  x4  x5  x6  x7  x8  x9    x10 ...   x57  x58  x59  x60  x61  \\\n",
       "2386  29   0   1   1   0   9   7  13  33  188.6 ...     0    1    0    0    0   \n",
       "1298  27   1   1   0   0  16   8   0  28  163.1 ...     0    0    0    0    0   \n",
       "1995  33   1   0   1   0   3  14   6  24  121.9 ...     0    0    0    0    0   \n",
       "2097  29   1   1   0   4  13  14  18  41   89.4 ...     1    0    0    1    0   \n",
       "289   37   1   1   1   3   3   4   5  30   42.6 ...     0    0    0    0    0   \n",
       "\n",
       "      x62  x63  x64  x65  x66  \n",
       "2386    0    0    3    0    1  \n",
       "1298    1    0    3    0    1  \n",
       "1995    0    1    2    1    1  \n",
       "2097    0    0    3    3    0  \n",
       "289     0    1    3    2    0  \n",
       "\n",
       "[5 rows x 66 columns]"
      ]
     },
     "execution_count": 487,
     "metadata": {},
     "output_type": "execute_result"
    }
   ],
   "source": [
    "xtest.head()"
   ]
  },
  {
   "cell_type": "code",
   "execution_count": 488,
   "metadata": {},
   "outputs": [
    {
     "data": {
      "text/plain": [
       "2386    1\n",
       "1298   -1\n",
       "1995   -1\n",
       "2097   -1\n",
       "289    -1\n",
       "Name: y, dtype: int64"
      ]
     },
     "execution_count": 488,
     "metadata": {},
     "output_type": "execute_result"
    }
   ],
   "source": [
    "ytest.head()"
   ]
  },
  {
   "cell_type": "markdown",
   "metadata": {},
   "source": [
    "## Scaling of test Data  "
   ]
  },
  {
   "cell_type": "code",
   "execution_count": 489,
   "metadata": {},
   "outputs": [],
   "source": [
    "# Scaling the x values \n",
    "\n",
    "from sklearn.preprocessing import MinMaxScaler\n",
    "\n",
    "scaler = MinMaxScaler()\n",
    "scaler.fit(xtest)\n",
    "xteststd = scaler.transform(xtest)\n",
    "\n",
    "\n",
    "x_test = xteststd\n",
    "y_test = ytest"
   ]
  },
  {
   "cell_type": "markdown",
   "metadata": {},
   "source": [
    "## Upsampling the Train Data "
   ]
  },
  {
   "cell_type": "code",
   "execution_count": 490,
   "metadata": {},
   "outputs": [
    {
     "data": {
      "text/plain": [
       "<matplotlib.axes._subplots.AxesSubplot at 0x1a41c1eac8>"
      ]
     },
     "execution_count": 490,
     "metadata": {},
     "output_type": "execute_result"
    },
    {
     "data": {
      "image/png": "[encoded data removed]",
      "text/plain": [
       "<Figure size 432x288 with 1 Axes>"
      ]
     },
     "metadata": {},
     "output_type": "display_data"
    }
   ],
   "source": [
    "# Now lets check the class distributions\n",
    "\n",
    "import matplotlib.pyplot as plt \n",
    "import seaborn as sns \n",
    "\n",
    "%matplotlib inline \n",
    "\n",
    "sns.countplot(\"y\",data=data_train)"
   ]
  },
  {
   "cell_type": "code",
   "execution_count": 491,
   "metadata": {},
   "outputs": [
    {
     "data": {
      "text/plain": [
       "-1    1513\n",
       " 1     487\n",
       "Name: y, dtype: int64"
      ]
     },
     "execution_count": 491,
     "metadata": {},
     "output_type": "execute_result"
    }
   ],
   "source": [
    "data_train['y'].value_counts()"
   ]
  },
  {
   "cell_type": "code",
   "execution_count": 492,
   "metadata": {},
   "outputs": [],
   "source": [
    "from sklearn.utils import resample\n",
    "\n",
    "# Separate majority and minority classes\n",
    "majority = data_train[data_train.y==-1]\n",
    "minority = data_train[data_train.y==1]\n",
    "\n",
    "#Upsample Minority Class\n",
    "minority_upsampled = resample (minority, replace = True, n_samples = 1513, random_state=123)\n",
    "\n",
    "\n",
    "# Combine majority class with upsampled minority class\n",
    "upsampled = pd.concat([majority, minority_upsampled])"
   ]
  },
  {
   "cell_type": "code",
   "execution_count": 493,
   "metadata": {},
   "outputs": [
    {
     "data": {
      "text/plain": [
       "<matplotlib.axes._subplots.AxesSubplot at 0x1a43e170f0>"
      ]
     },
     "execution_count": 493,
     "metadata": {},
     "output_type": "execute_result"
    },
    {
     "data": {
      "image/png": "[encoded data removed]",
      "text/plain": [
       "<Figure size 432x288 with 1 Axes>"
      ]
     },
     "metadata": {},
     "output_type": "display_data"
    }
   ],
   "source": [
    "# Now lets check the class distributions\n",
    "\n",
    "import matplotlib.pyplot as plt \n",
    "import seaborn as sns \n",
    "\n",
    "%matplotlib inline \n",
    "\n",
    "sns.countplot(\"y\",data=upsampled)"
   ]
  },
  {
   "cell_type": "code",
   "execution_count": 494,
   "metadata": {},
   "outputs": [
    {
     "data": {
      "text/plain": [
       " 1    1513\n",
       "-1    1513\n",
       "Name: y, dtype: int64"
      ]
     },
     "execution_count": 494,
     "metadata": {},
     "output_type": "execute_result"
    }
   ],
   "source": [
    "upsampled['y'].value_counts()"
   ]
  },
  {
   "cell_type": "markdown",
   "metadata": {},
   "source": [
    "## Data Assigning for Train Data "
   ]
  },
  {
   "cell_type": "code",
   "execution_count": 495,
   "metadata": {},
   "outputs": [],
   "source": [
    "# Assign Data \n",
    "\n",
    "xtrain = upsampled.iloc[:,:-1]\n",
    "ytrain = upsampled.iloc[:,66]\n",
    "\n",
    "#xtrain = xtrain.drop(['y'], axis = 1)"
   ]
  },
  {
   "cell_type": "code",
   "execution_count": 496,
   "metadata": {},
   "outputs": [
    {
     "data": {
      "text/html": [
       "<div>\n",
       "<style scoped>\n",
       "    .dataframe tbody tr th:only-of-type {\n",
       "        vertical-align: middle;\n",
       "    }\n",
       "\n",
       "    .dataframe tbody tr th {\n",
       "        vertical-align: top;\n",
       "    }\n",
       "\n",
       "    .dataframe thead th {\n",
       "        text-align: right;\n",
       "    }\n",
       "</style>\n",
       "<table border=\"1\" class=\"dataframe\">\n",
       "  <thead>\n",
       "    <tr style=\"text-align: right;\">\n",
       "      <th></th>\n",
       "      <th>x1</th>\n",
       "      <th>x2</th>\n",
       "      <th>x3</th>\n",
       "      <th>x4</th>\n",
       "      <th>x5</th>\n",
       "      <th>x6</th>\n",
       "      <th>x7</th>\n",
       "      <th>x8</th>\n",
       "      <th>x9</th>\n",
       "      <th>x10</th>\n",
       "      <th>...</th>\n",
       "      <th>x57</th>\n",
       "      <th>x58</th>\n",
       "      <th>x59</th>\n",
       "      <th>x60</th>\n",
       "      <th>x61</th>\n",
       "      <th>x62</th>\n",
       "      <th>x63</th>\n",
       "      <th>x64</th>\n",
       "      <th>x65</th>\n",
       "      <th>x66</th>\n",
       "    </tr>\n",
       "  </thead>\n",
       "  <tbody>\n",
       "    <tr>\n",
       "      <th>127</th>\n",
       "      <td>25</td>\n",
       "      <td>0</td>\n",
       "      <td>0</td>\n",
       "      <td>1</td>\n",
       "      <td>0</td>\n",
       "      <td>7</td>\n",
       "      <td>9</td>\n",
       "      <td>14</td>\n",
       "      <td>24</td>\n",
       "      <td>81.7</td>\n",
       "      <td>...</td>\n",
       "      <td>0</td>\n",
       "      <td>0</td>\n",
       "      <td>0</td>\n",
       "      <td>0</td>\n",
       "      <td>0</td>\n",
       "      <td>0</td>\n",
       "      <td>1</td>\n",
       "      <td>3</td>\n",
       "      <td>0</td>\n",
       "      <td>0</td>\n",
       "    </tr>\n",
       "    <tr>\n",
       "      <th>1758</th>\n",
       "      <td>24</td>\n",
       "      <td>0</td>\n",
       "      <td>1</td>\n",
       "      <td>1</td>\n",
       "      <td>1</td>\n",
       "      <td>5</td>\n",
       "      <td>9</td>\n",
       "      <td>18</td>\n",
       "      <td>44</td>\n",
       "      <td>20.7</td>\n",
       "      <td>...</td>\n",
       "      <td>0</td>\n",
       "      <td>1</td>\n",
       "      <td>0</td>\n",
       "      <td>0</td>\n",
       "      <td>0</td>\n",
       "      <td>0</td>\n",
       "      <td>1</td>\n",
       "      <td>0</td>\n",
       "      <td>1</td>\n",
       "      <td>1</td>\n",
       "    </tr>\n",
       "    <tr>\n",
       "      <th>463</th>\n",
       "      <td>32</td>\n",
       "      <td>0</td>\n",
       "      <td>1</td>\n",
       "      <td>1</td>\n",
       "      <td>0</td>\n",
       "      <td>10</td>\n",
       "      <td>16</td>\n",
       "      <td>11</td>\n",
       "      <td>27</td>\n",
       "      <td>182.2</td>\n",
       "      <td>...</td>\n",
       "      <td>0</td>\n",
       "      <td>1</td>\n",
       "      <td>0</td>\n",
       "      <td>0</td>\n",
       "      <td>0</td>\n",
       "      <td>0</td>\n",
       "      <td>1</td>\n",
       "      <td>3</td>\n",
       "      <td>0</td>\n",
       "      <td>1</td>\n",
       "    </tr>\n",
       "    <tr>\n",
       "      <th>594</th>\n",
       "      <td>29</td>\n",
       "      <td>0</td>\n",
       "      <td>1</td>\n",
       "      <td>0</td>\n",
       "      <td>2</td>\n",
       "      <td>2</td>\n",
       "      <td>9</td>\n",
       "      <td>4</td>\n",
       "      <td>49</td>\n",
       "      <td>99.2</td>\n",
       "      <td>...</td>\n",
       "      <td>0</td>\n",
       "      <td>0</td>\n",
       "      <td>0</td>\n",
       "      <td>1</td>\n",
       "      <td>0</td>\n",
       "      <td>0</td>\n",
       "      <td>1</td>\n",
       "      <td>1</td>\n",
       "      <td>1</td>\n",
       "      <td>1</td>\n",
       "    </tr>\n",
       "    <tr>\n",
       "      <th>2051</th>\n",
       "      <td>35</td>\n",
       "      <td>1</td>\n",
       "      <td>1</td>\n",
       "      <td>0</td>\n",
       "      <td>0</td>\n",
       "      <td>7</td>\n",
       "      <td>11</td>\n",
       "      <td>18</td>\n",
       "      <td>35</td>\n",
       "      <td>59.2</td>\n",
       "      <td>...</td>\n",
       "      <td>0</td>\n",
       "      <td>0</td>\n",
       "      <td>0</td>\n",
       "      <td>1</td>\n",
       "      <td>0</td>\n",
       "      <td>0</td>\n",
       "      <td>0</td>\n",
       "      <td>2</td>\n",
       "      <td>2</td>\n",
       "      <td>1</td>\n",
       "    </tr>\n",
       "  </tbody>\n",
       "</table>\n",
       "<p>5 rows × 66 columns</p>\n",
       "</div>"
      ],
      "text/plain": [
       "      x1  x2  x3  x4  x5  x6  x7  x8  x9    x10 ...   x57  x58  x59  x60  x61  \\\n",
       "127   25   0   0   1   0   7   9  14  24   81.7 ...     0    0    0    0    0   \n",
       "1758  24   0   1   1   1   5   9  18  44   20.7 ...     0    1    0    0    0   \n",
       "463   32   0   1   1   0  10  16  11  27  182.2 ...     0    1    0    0    0   \n",
       "594   29   0   1   0   2   2   9   4  49   99.2 ...     0    0    0    1    0   \n",
       "2051  35   1   1   0   0   7  11  18  35   59.2 ...     0    0    0    1    0   \n",
       "\n",
       "      x62  x63  x64  x65  x66  \n",
       "127     0    1    3    0    0  \n",
       "1758    0    1    0    1    1  \n",
       "463     0    1    3    0    1  \n",
       "594     0    1    1    1    1  \n",
       "2051    0    0    2    2    1  \n",
       "\n",
       "[5 rows x 66 columns]"
      ]
     },
     "execution_count": 496,
     "metadata": {},
     "output_type": "execute_result"
    }
   ],
   "source": [
    "xtrain.head()"
   ]
  },
  {
   "cell_type": "code",
   "execution_count": 497,
   "metadata": {},
   "outputs": [
    {
     "data": {
      "text/plain": [
       "127    -1\n",
       "1758   -1\n",
       "463    -1\n",
       "594    -1\n",
       "2051   -1\n",
       "Name: y, dtype: int64"
      ]
     },
     "execution_count": 497,
     "metadata": {},
     "output_type": "execute_result"
    }
   ],
   "source": [
    "ytrain.head()"
   ]
  },
  {
   "cell_type": "markdown",
   "metadata": {},
   "source": [
    "## Scaling of Train Data  "
   ]
  },
  {
   "cell_type": "code",
   "execution_count": 498,
   "metadata": {},
   "outputs": [],
   "source": [
    "# Scaling the x values \n",
    "\n",
    "from sklearn.preprocessing import MinMaxScaler\n",
    "\n",
    "scaler = MinMaxScaler()\n",
    "scaler.fit(xtrain)\n",
    "xtrainstd = scaler.transform(xtrain)\n",
    "\n",
    "\n",
    "x_train = xtrainstd\n",
    "y_train = ytrain"
   ]
  },
  {
   "cell_type": "markdown",
   "metadata": {},
   "source": [
    "# Model  "
   ]
  },
  {
   "cell_type": "markdown",
   "metadata": {},
   "source": [
    "## Base Random Forest  "
   ]
  },
  {
   "cell_type": "code",
   "execution_count": 223,
   "metadata": {},
   "outputs": [
    {
     "data": {
      "text/plain": [
       "RandomForestClassifier(bootstrap=True, class_weight=None, criterion='gini',\n",
       "            max_depth=None, max_features='auto', max_leaf_nodes=None,\n",
       "            min_impurity_decrease=0.0, min_impurity_split=None,\n",
       "            min_samples_leaf=1, min_samples_split=2,\n",
       "            min_weight_fraction_leaf=0.0, n_estimators=10, n_jobs=1,\n",
       "            oob_score=False, random_state=0, verbose=0, warm_start=False)"
      ]
     },
     "execution_count": 223,
     "metadata": {},
     "output_type": "execute_result"
    }
   ],
   "source": [
    "from sklearn.ensemble import RandomForestClassifier\n",
    "\n",
    "\n",
    "model1 = RandomForestClassifier(random_state=0)\n",
    "model1.fit(x_train,y_train)"
   ]
  },
  {
   "cell_type": "code",
   "execution_count": 224,
   "metadata": {},
   "outputs": [
    {
     "name": "stdout",
     "output_type": "stream",
     "text": [
      "[[355  23]\n",
      " [ 67  55]]\n"
     ]
    }
   ],
   "source": [
    "# Predicting a new result\n",
    "y_predtest = model1.predict(x_test)\n",
    "y_predtrain = model1.predict(x_train)\n",
    "\n",
    "\n",
    "# Making the Confusion Matrix\n",
    "from sklearn.metrics import confusion_matrix\n",
    "cm = confusion_matrix(y_test, y_predtest)\n",
    "print(cm)"
   ]
  },
  {
   "cell_type": "code",
   "execution_count": 225,
   "metadata": {},
   "outputs": [
    {
     "name": "stdout",
     "output_type": "stream",
     "text": [
      "The Training Accuracy is 99.93390614672836 %\n",
      "The Test Accuracy is 82.0 %\n"
     ]
    }
   ],
   "source": [
    "from sklearn.metrics import accuracy_score\n",
    "\n",
    "accuracy_score(y_test,y_predtest)\n",
    "accuracy_score(y_train,y_predtrain)\n",
    "\n",
    "\n",
    "print (\"The Training Accuracy is\",accuracy_score(y_train,y_predtrain)*100,\"%\")\n",
    "print (\"The Test Accuracy is\",accuracy_score(y_test,y_predtest)*100,\"%\")"
   ]
  },
  {
   "cell_type": "markdown",
   "metadata": {},
   "source": [
    "## Selecting the range for the parameters for the grid search  "
   ]
  },
  {
   "cell_type": "markdown",
   "metadata": {},
   "source": [
    "## Min Samples Leaf "
   ]
  },
  {
   "cell_type": "code",
   "execution_count": 226,
   "metadata": {},
   "outputs": [
    {
     "data": {
      "image/png": "[encoded data removed]",
      "text/plain": [
       "<Figure size 432x288 with 1 Axes>"
      ]
     },
     "metadata": {},
     "output_type": "display_data"
    }
   ],
   "source": [
    "# Min Samples Leaf\n",
    "\n",
    "from sklearn.ensemble import RandomForestClassifier\n",
    "\n",
    "fig = plt.figure()\n",
    "ax0 = fig.add_subplot(111) \n",
    "acc_train = []\n",
    "acc_test = []\n",
    "for i in range(1,100):\n",
    "   \n",
    "    model = RandomForestClassifier(random_state = 0,min_samples_leaf=i)\n",
    "    model.fit(x_train,y_train)    \n",
    "    y_predtest = model.predict(x_test)\n",
    "    y_predtrain = model.predict(x_train)\n",
    "    acc_test.append(accuracy_score(y_test,y_predtest))\n",
    "    acc_train.append(accuracy_score(y_train,y_predtrain))\n",
    "\n",
    "ax0.plot(range(1,100),acc_test,label='Test Data Accuracy')\n",
    "ax0.plot(range(1,100),acc_train,label='Train Data Accuracy')\n",
    "ax0.legend()\n",
    "ax0.set_title('Accuracy Score with respect to the Minimum Samples Leaf')\n",
    "ax0.set_xlabel('#Instances')\n",
    "ax0.set_ylabel('Accuracy')\n",
    "plt.show()\n"
   ]
  },
  {
   "cell_type": "markdown",
   "metadata": {},
   "source": [
    "From the Plot Between the Accuaracy and Instances of Min Samples Leaf, we see that As the instances increases, the Train data Accuracy decreases drastically within the first 25 instances. But the Test data accuracy decreases ina very slow pace. So we can choose a value between 1 and 20 for the Min Samples Leaf. "
   ]
  },
  {
   "cell_type": "markdown",
   "metadata": {},
   "source": [
    "## Max Depth  "
   ]
  },
  {
   "cell_type": "code",
   "execution_count": 227,
   "metadata": {},
   "outputs": [
    {
     "data": {
      "image/png": "[encoded data removed]",
      "text/plain": [
       "<Figure size 432x288 with 1 Axes>"
      ]
     },
     "metadata": {},
     "output_type": "display_data"
    }
   ],
   "source": [
    "# Max Depth\n",
    "\n",
    "from sklearn.ensemble import RandomForestClassifier\n",
    "\n",
    "fig = plt.figure()\n",
    "ax0 = fig.add_subplot(111) \n",
    "acc_train = []\n",
    "acc_test = []\n",
    "for i in range(1,50):\n",
    "   \n",
    "    model = RandomForestClassifier(random_state = 0,max_depth=i)\n",
    "    model.fit(x_train,y_train)    \n",
    "    y_predtest = model.predict(x_test)\n",
    "    y_predtrain = model.predict(x_train)\n",
    "    acc_test.append(accuracy_score(y_test,y_predtest))\n",
    "    acc_train.append(accuracy_score(y_train,y_predtrain))\n",
    "\n",
    "ax0.plot(range(1,50),acc_test,label='Test Data Accuracy')\n",
    "ax0.plot(range(1,50),acc_train,label='Train Data Accuracy')\n",
    "ax0.legend()\n",
    "ax0.set_title('Accuracy Score with respect to Max Depth')\n",
    "ax0.set_xlabel('#Instances')\n",
    "ax0.set_ylabel('Accuracy')\n",
    "plt.show()\n",
    "\n"
   ]
  },
  {
   "cell_type": "markdown",
   "metadata": {},
   "source": [
    "We see that the as we increase the max depth, the accuracy of the both the test and train data increases, and eventually stabilizes after 30 instances. There seems to be a drastic change around 5 and 25 instances. So the range that could be selected for the max depth could be between 5 and 25.  "
   ]
  },
  {
   "cell_type": "markdown",
   "metadata": {},
   "source": [
    "## Min Sample Split  "
   ]
  },
  {
   "cell_type": "code",
   "execution_count": 228,
   "metadata": {},
   "outputs": [
    {
     "data": {
      "image/png": "[encoded data removed]",
      "text/plain": [
       "<Figure size 432x288 with 1 Axes>"
      ]
     },
     "metadata": {},
     "output_type": "display_data"
    }
   ],
   "source": [
    "# Min Sample Split\n",
    "\n",
    "from sklearn.ensemble import RandomForestClassifier\n",
    "\n",
    "fig = plt.figure()\n",
    "ax0 = fig.add_subplot(111) \n",
    "acc_train = []\n",
    "acc_test = []\n",
    "for i in range(2,150):\n",
    "   \n",
    "    model = RandomForestClassifier(random_state = 0,min_samples_split=i)\n",
    "    model.fit(x_train,y_train)    \n",
    "    y_predtest = model.predict(x_test)\n",
    "    y_predtrain = model.predict(x_train)\n",
    "    acc_test.append(accuracy_score(y_test,y_predtest))\n",
    "    acc_train.append(accuracy_score(y_train,y_predtrain))\n",
    "\n",
    "ax0.plot(range(2,150),acc_test,label='Test Data Accuracy')\n",
    "ax0.plot(range(2,150),acc_train,label='Train Data Accuracy')\n",
    "ax0.legend()\n",
    "ax0.set_title('Accuracy Score with respect to Min Samples Split ')\n",
    "ax0.set_xlabel('#Instances')\n",
    "ax0.set_ylabel('Accuracy')\n",
    "plt.show()\n",
    "\n"
   ]
  },
  {
   "cell_type": "markdown",
   "metadata": {},
   "source": [
    "Choosing a Min Samples Split Between 2 and 40 would make sense because we see that the accuracy for the test is kind of constant. But the train accuracy keeps reducing at a constant pace. So choosing a vlaue between 2 and 25 would be reasonable. "
   ]
  },
  {
   "cell_type": "markdown",
   "metadata": {},
   "source": [
    "## Max Features "
   ]
  },
  {
   "cell_type": "code",
   "execution_count": 233,
   "metadata": {},
   "outputs": [
    {
     "data": {
      "image/png": "[encoded data removed]",
      "text/plain": [
       "<Figure size 432x288 with 1 Axes>"
      ]
     },
     "metadata": {},
     "output_type": "display_data"
    }
   ],
   "source": [
    "# Max Features \n",
    "\n",
    "from sklearn.ensemble import RandomForestClassifier\n",
    "\n",
    "fig = plt.figure()\n",
    "ax0 = fig.add_subplot(111) \n",
    "acc_train = []\n",
    "acc_test = []\n",
    "for i in range(1,64):\n",
    "   \n",
    "    model = RandomForestClassifier(random_state = 0,max_features=i)\n",
    "    model.fit(x_train,y_train)    \n",
    "    y_predtest = model.predict(x_test)\n",
    "    y_predtrain = model.predict(x_train)\n",
    "    acc_test.append(accuracy_score(y_test,y_predtest))\n",
    "    acc_train.append(accuracy_score(y_train,y_predtrain))\n",
    "\n",
    "ax0.plot(range(1,64),acc_test,label='Test Data Accuracy')\n",
    "ax0.plot(range(1,64),acc_train,label='Train Data Accuracy')\n",
    "ax0.legend()\n",
    "ax0.set_title('Accuracy Score with respect to Max Features')\n",
    "ax0.set_xlabel('#Instances')\n",
    "ax0.set_ylabel('Accuracy')\n",
    "plt.show()\n",
    "\n"
   ]
  },
  {
   "cell_type": "markdown",
   "metadata": {},
   "source": [
    "The Train Accuracy is at a constant level and the test accuracy has a sharp increase beyond 10 parameters. So, we can choose the Max Features between 10 and 64. Because there is a maximum of 64 parameters. "
   ]
  },
  {
   "cell_type": "markdown",
   "metadata": {},
   "source": [
    "## Max Leaf Nodes "
   ]
  },
  {
   "cell_type": "code",
   "execution_count": 234,
   "metadata": {},
   "outputs": [
    {
     "data": {
      "image/png": "[encoded data removed]",
      "text/plain": [
       "<Figure size 432x288 with 1 Axes>"
      ]
     },
     "metadata": {},
     "output_type": "display_data"
    }
   ],
   "source": [
    "# Max Leaf Nodes\n",
    "\n",
    "from sklearn.ensemble import RandomForestClassifier\n",
    "\n",
    "fig = plt.figure()\n",
    "ax0 = fig.add_subplot(111) \n",
    "acc_train = []\n",
    "acc_test = []\n",
    "for i in range(2,300):\n",
    "   \n",
    "    model = RandomForestClassifier(random_state = 0,max_leaf_nodes=i)\n",
    "    model.fit(x_train,y_train)    \n",
    "    y_predtest = model.predict(x_test)\n",
    "    y_predtrain = model.predict(x_train)\n",
    "    acc_test.append(accuracy_score(y_test,y_predtest))\n",
    "    acc_train.append(accuracy_score(y_train,y_predtrain))\n",
    "\n",
    "ax0.plot(range(2,300),acc_test,label='Test Data Accuracy')\n",
    "ax0.plot(range(2,300),acc_train,label='Train Data Accuracy')\n",
    "ax0.legend()\n",
    "ax0.set_title('Accuracy Score with respect to Max Leaf Nodes')\n",
    "ax0.set_xlabel('#Instances')\n",
    "ax0.set_ylabel('Accuracy')\n",
    "plt.show()\n",
    "\n"
   ]
  },
  {
   "cell_type": "markdown",
   "metadata": {},
   "source": [
    "We can see that the Max Leaf Nodes have an high impact on the model. Beyond 150 instances, the Test Data Accuracy seems to drop. So, choosing a value between 50 and 150 would be reasonable"
   ]
  },
  {
   "cell_type": "markdown",
   "metadata": {},
   "source": [
    "## Minimum Impurity Decrease "
   ]
  },
  {
   "cell_type": "code",
   "execution_count": 235,
   "metadata": {},
   "outputs": [
    {
     "data": {
      "image/png": "[encoded data removed]",
      "text/plain": [
       "<Figure size 432x288 with 1 Axes>"
      ]
     },
     "metadata": {},
     "output_type": "display_data"
    }
   ],
   "source": [
    "# Min Impurity Decrease\n",
    "\n",
    "from sklearn.ensemble import RandomForestClassifier\n",
    "\n",
    "fig = plt.figure()\n",
    "ax0 = fig.add_subplot(111) \n",
    "acc_train = []\n",
    "acc_test = []\n",
    "for i in range(1,100):\n",
    "   \n",
    "    model = RandomForestClassifier(random_state = 0,min_impurity_decrease=i)\n",
    "    model.fit(x_train,y_train)    \n",
    "    y_predtest = model.predict(x_test)\n",
    "    y_predtrain = model.predict(x_train)\n",
    "    acc_test.append(accuracy_score(y_test,y_predtest))\n",
    "    acc_train.append(accuracy_score(y_train,y_predtrain))\n",
    "\n",
    "ax0.plot(range(1,100),acc_test,label='Test Data Accuracy')\n",
    "ax0.plot(range(1,100),acc_train,label='Train Data Accuracy')\n",
    "ax0.legend()\n",
    "ax0.set_title('Accuracy Score with respect to the Minimum Impurity Decrease')\n",
    "ax0.set_xlabel('#Instances')\n",
    "ax0.set_ylabel('Accuracy')\n",
    "plt.show()\n",
    "\n"
   ]
  },
  {
   "cell_type": "markdown",
   "metadata": {},
   "source": [
    "Minimum Impurity Decrease do not have an effect on the Accuracy of the Models "
   ]
  },
  {
   "cell_type": "markdown",
   "metadata": {},
   "source": [
    "## n_estimators "
   ]
  },
  {
   "cell_type": "code",
   "execution_count": 236,
   "metadata": {},
   "outputs": [
    {
     "data": {
      "image/png": "[encoded data removed]",
      "text/plain": [
       "<Figure size 432x288 with 1 Axes>"
      ]
     },
     "metadata": {},
     "output_type": "display_data"
    }
   ],
   "source": [
    "# n_estimators\n",
    "\n",
    "from sklearn.ensemble import RandomForestClassifier\n",
    "\n",
    "fig = plt.figure()\n",
    "ax0 = fig.add_subplot(111) \n",
    "acc_train = []\n",
    "acc_test = []\n",
    "for i in range(1,100):\n",
    "   \n",
    "    model = RandomForestClassifier(random_state = 0,n_estimators=i)\n",
    "    model.fit(x_train,y_train)    \n",
    "    y_predtest = model.predict(x_test)\n",
    "    y_predtrain = model.predict(x_train)\n",
    "    acc_test.append(accuracy_score(y_test,y_predtest))\n",
    "    acc_train.append(accuracy_score(y_train,y_predtrain))\n",
    "\n",
    "ax0.plot(range(1,100),acc_test,label='Test Data Accuracy')\n",
    "ax0.plot(range(1,100),acc_train,label='Train Data Accuracy')\n",
    "ax0.legend()\n",
    "ax0.set_title('Accuracy Score with respect to n_estimators')\n",
    "ax0.set_xlabel('#Instances')\n",
    "ax0.set_ylabel('Accuracy')\n",
    "plt.show()\n"
   ]
  },
  {
   "cell_type": "markdown",
   "metadata": {},
   "source": [
    "We see that as the test accuracy increased until 40 instances and did stabilize after that. The Train Accuracy quickly reaches 100%. So choosing a value between 5 and 40 will be recommended. "
   ]
  },
  {
   "cell_type": "markdown",
   "metadata": {},
   "source": [
    "## n_jobs  "
   ]
  },
  {
   "cell_type": "code",
   "execution_count": 237,
   "metadata": {},
   "outputs": [
    {
     "data": {
      "image/png": "[encoded data removed]",
      "text/plain": [
       "<Figure size 432x288 with 1 Axes>"
      ]
     },
     "metadata": {},
     "output_type": "display_data"
    }
   ],
   "source": [
    "# n_jobs\n",
    "\n",
    "from sklearn.ensemble import RandomForestClassifier\n",
    "\n",
    "fig = plt.figure()\n",
    "ax0 = fig.add_subplot(111) \n",
    "acc_train = []\n",
    "acc_test = []\n",
    "for i in range(1,100):\n",
    "   \n",
    "    model = RandomForestClassifier(random_state = 0,n_jobs=i)\n",
    "    model.fit(x_train,y_train)    \n",
    "    y_predtest = model.predict(x_test)\n",
    "    y_predtrain = model.predict(x_train)\n",
    "    acc_test.append(accuracy_score(y_test,y_predtest))\n",
    "    acc_train.append(accuracy_score(y_train,y_predtrain))\n",
    "\n",
    "ax0.plot(range(1,100),acc_test,label='Test Data Accuracy')\n",
    "ax0.plot(range(1,100),acc_train,label='Train Data Accuracy')\n",
    "ax0.legend()\n",
    "ax0.set_title('Accuracy Score with respect to n_jobs')\n",
    "ax0.set_xlabel('#Instances')\n",
    "ax0.set_ylabel('Accuracy')\n",
    "plt.show()\n",
    "\n"
   ]
  },
  {
   "cell_type": "markdown",
   "metadata": {},
   "source": [
    "n_jobs doesn't have any effect on the Model Accuracy "
   ]
  },
  {
   "cell_type": "markdown",
   "metadata": {},
   "source": [
    "## Grid Search Based on the parameters selected "
   ]
  },
  {
   "cell_type": "markdown",
   "metadata": {},
   "source": [
    "### Gini "
   ]
  },
  {
   "cell_type": "code",
   "execution_count": 517,
   "metadata": {},
   "outputs": [
    {
     "name": "stdout",
     "output_type": "stream",
     "text": [
      "The Training Accuracy is 99.93390614672836 %\n",
      "The Test Accuracy is 82.0 %\n"
     ]
    }
   ],
   "source": [
    "model3 = RandomForestClassifier(criterion='gini',random_state=0)\n",
    "model3.fit(x_train,y_train)\n",
    "\n",
    "# Predicting a new result\n",
    "y_predtest3 = model3.predict(x_test)\n",
    "y_predtrain3 = model3.predict(x_train)\n",
    "\n",
    "from sklearn.metrics import accuracy_score\n",
    "\n",
    "accuracy_score(y_test,y_predtest3)\n",
    "accuracy_score(y_train,y_predtrain3)\n",
    "\n",
    "\n",
    "print (\"The Training Accuracy is\",accuracy_score(y_train,y_predtrain3)*100,\"%\")\n",
    "print (\"The Test Accuracy is\",accuracy_score(y_test,y_predtest3)*100,\"%\")"
   ]
  },
  {
   "cell_type": "code",
   "execution_count": 518,
   "metadata": {},
   "outputs": [
    {
     "name": "stdout",
     "output_type": "stream",
     "text": [
      "[[355  23]\n",
      " [ 67  55]]\n",
      "[[1512    1]\n",
      " [   1 1512]]\n"
     ]
    }
   ],
   "source": [
    "from sklearn.metrics import confusion_matrix\n",
    "cm1 = confusion_matrix(y_test, y_predtest3)\n",
    "print(cm1)\n",
    "\n",
    "cm2 = confusion_matrix(y_train, y_predtrain3)\n",
    "print(cm2)"
   ]
  },
  {
   "cell_type": "markdown",
   "metadata": {},
   "source": [
    "## Grid Search Entropy "
   ]
  },
  {
   "cell_type": "code",
   "execution_count": 388,
   "metadata": {},
   "outputs": [
    {
     "name": "stdout",
     "output_type": "stream",
     "text": [
      "Best Parameters:{'max_depth': 20, 'max_features': 50, 'max_leaf_nodes': 100, 'n_estimators': 40}\n",
      "{'max_depth': 20, 'max_features': 50, 'max_leaf_nodes': 100, 'n_estimators': 40}\n"
     ]
    }
   ],
   "source": [
    "from sklearn.ensemble import RandomForestClassifier\n",
    "from sklearn.model_selection import GridSearchCV\n",
    "\n",
    "best = RandomForestClassifier(random_state =0, criterion='gini')\n",
    "best_grid = GridSearchCV(best,{ 'n_estimators': range(25,45,15),\n",
    "                                'max_depth': np.arange(5,25,15),\n",
    "                                'max_features':range(10,64,10),\n",
    "                                'max_leaf_nodes':range(50,150,50)})\n",
    "\n",
    "\n",
    "best_grid.fit(x_train, y_train)    \n",
    "print('Best Parameters:{}'.format(best_grid.best_params_))\n",
    "print(best_grid.best_params_)"
   ]
  },
  {
   "cell_type": "code",
   "execution_count": 520,
   "metadata": {},
   "outputs": [
    {
     "name": "stdout",
     "output_type": "stream",
     "text": [
      "The Training Accuracy is 94.28288169200265 %\n",
      "The Test Accuracy is 82.19999999999999 %\n"
     ]
    }
   ],
   "source": [
    "model3 = RandomForestClassifier(criterion='gini', n_estimators=40, min_samples_leaf= 1,min_samples_split=2,max_depth=20, max_leaf_nodes=100, random_state=0)\n",
    "model3.fit(x_train,y_train)\n",
    "\n",
    "# Predicting a new result\n",
    "y_predtest3 = model3.predict(x_test)\n",
    "y_predtrain3 = model3.predict(x_train)\n",
    "\n",
    "from sklearn.metrics import accuracy_score\n",
    "\n",
    "accuracy_score(y_test,y_predtest3)\n",
    "accuracy_score(y_train,y_predtrain3)\n",
    "\n",
    "\n",
    "print (\"The Training Accuracy is\",accuracy_score(y_train,y_predtrain3)*100,\"%\")\n",
    "print (\"The Test Accuracy is\",accuracy_score(y_test,y_predtest3)*100,\"%\")"
   ]
  },
  {
   "cell_type": "code",
   "execution_count": 521,
   "metadata": {},
   "outputs": [
    {
     "name": "stdout",
     "output_type": "stream",
     "text": [
      "[[325  53]\n",
      " [ 36  86]]\n",
      "[[1391  122]\n",
      " [  51 1462]]\n"
     ]
    }
   ],
   "source": [
    "from sklearn.metrics import confusion_matrix\n",
    "cm1 = confusion_matrix(y_test, y_predtest3)\n",
    "print(cm1)\n",
    "\n",
    "cm2 = confusion_matrix(y_train, y_predtrain3)\n",
    "print(cm2)"
   ]
  },
  {
   "cell_type": "markdown",
   "metadata": {},
   "source": [
    "### Entropy "
   ]
  },
  {
   "cell_type": "code",
   "execution_count": 244,
   "metadata": {},
   "outputs": [
    {
     "name": "stdout",
     "output_type": "stream",
     "text": [
      "Best Parameters:{'max_depth': 15, 'max_features': 30, 'max_leaf_nodes': 140, 'min_samples_leaf': 1, 'min_samples_split': 2, 'n_estimators': 35}\n",
      "{'max_depth': 15, 'max_features': 30, 'max_leaf_nodes': 140, 'min_samples_leaf': 1, 'min_samples_split': 2, 'n_estimators': 35}\n"
     ]
    }
   ],
   "source": [
    "from sklearn.ensemble import RandomForestClassifier\n",
    "from sklearn.model_selection import GridSearchCV\n",
    "\n",
    "best = RandomForestClassifier(random_state =0, criterion='entropy')\n",
    "best_grid = GridSearchCV(best,{ 'n_estimators': range(25,45,10),\n",
    "                                'min_samples_split': range(2,40,13),\n",
    "                                'max_depth': np.arange(5,25,10),\n",
    "                                'max_features':range(10,64,10),\n",
    "                                'min_samples_leaf': range(1,20,7),\n",
    "                                'max_leaf_nodes':range(50,150,30)})\n",
    "\n",
    "\n",
    "best_grid.fit(x_train, y_train)    \n",
    "print('Best Parameters:{}'.format(best_grid.best_params_))\n",
    "print(best_grid.best_params_)"
   ]
  },
  {
   "cell_type": "code",
   "execution_count": 522,
   "metadata": {},
   "outputs": [
    {
     "name": "stdout",
     "output_type": "stream",
     "text": [
      "The Training Accuracy is 96.00132187706544 %\n",
      "The Test Accuracy is 82.8 %\n"
     ]
    }
   ],
   "source": [
    "model4 = RandomForestClassifier(criterion='entropy', n_estimators=35, min_samples_leaf= 1,min_samples_split=2,max_depth=15, max_leaf_nodes=140, random_state=0)\n",
    "model4.fit(x_train,y_train)\n",
    "\n",
    "# Predicting a new result\n",
    "y_predtest4 = model4.predict(x_test)\n",
    "y_predtrain4 = model4.predict(x_train)\n",
    "\n",
    "from sklearn.metrics import accuracy_score\n",
    "\n",
    "accuracy_score(y_test,y_predtest4)\n",
    "accuracy_score(y_train,y_predtrain4)\n",
    "\n",
    "\n",
    "print (\"The Training Accuracy is\",accuracy_score(y_train,y_predtrain4)*100,\"%\")\n",
    "print (\"The Test Accuracy is\",accuracy_score(y_test,y_predtest4)*100,\"%\")"
   ]
  },
  {
   "cell_type": "code",
   "execution_count": 523,
   "metadata": {},
   "outputs": [
    {
     "name": "stdout",
     "output_type": "stream",
     "text": [
      "[[330  48]\n",
      " [ 38  84]]\n",
      "[[1397  116]\n",
      " [   5 1508]]\n"
     ]
    }
   ],
   "source": [
    "from sklearn.metrics import confusion_matrix\n",
    "cm1 = confusion_matrix(y_test, y_predtest4)\n",
    "print(cm1)\n",
    "\n",
    "cm2 = confusion_matrix(y_train, y_predtrain4)\n",
    "print(cm2)"
   ]
  },
  {
   "cell_type": "markdown",
   "metadata": {},
   "source": [
    "It is obvious that an Entropy Criterion yields a better model than Gini Criterion. So an intense grid search based on the above prediction is performed. "
   ]
  },
  {
   "cell_type": "markdown",
   "metadata": {},
   "source": [
    "#### Better Entropy 1"
   ]
  },
  {
   "cell_type": "code",
   "execution_count": 143,
   "metadata": {},
   "outputs": [
    {
     "name": "stdout",
     "output_type": "stream",
     "text": [
      "Best Parameters:{'max_depth': 20, 'max_features': 50, 'max_leaf_nodes': 145, 'n_estimators': 30}\n",
      "{'max_depth': 20, 'max_features': 50, 'max_leaf_nodes': 145, 'n_estimators': 30}\n"
     ]
    }
   ],
   "source": [
    "from sklearn.ensemble import RandomForestClassifier\n",
    "from sklearn.model_selection import GridSearchCV\n",
    "\n",
    "best = RandomForestClassifier(random_state =0, criterion='entropy', min_samples_split=2, min_samples_leaf=1)\n",
    "best_grid = GridSearchCV(best,{ 'n_estimators': range(25,45,5),\n",
    "                                'max_depth': np.arange(5,25,5),\n",
    "                                'max_features':range(10,79,5),\n",
    "                                'max_leaf_nodes':range(75,150,10)})\n",
    "\n",
    "\n",
    "best_grid.fit(x_train, y_train)    \n",
    "print('Best Parameters:{}'.format(best_grid.best_params_))\n",
    "print(best_grid.best_params_)"
   ]
  },
  {
   "cell_type": "code",
   "execution_count": 525,
   "metadata": {},
   "outputs": [
    {
     "name": "stdout",
     "output_type": "stream",
     "text": [
      "The Training Accuracy is 99.63648380700594 %\n",
      "The Test Accuracy is 83.8 %\n"
     ]
    }
   ],
   "source": [
    "model5 = RandomForestClassifier(criterion='entropy', max_features=50, n_estimators=30, min_samples_leaf= 1, min_samples_split=2,max_depth=20, max_leaf_nodes=145, random_state=0)\n",
    "model5.fit(x_train,y_train)\n",
    "\n",
    "# Predicting a new result\n",
    "y_predtest5 = model5.predict(x_test)\n",
    "y_predtrain5 = model5.predict(x_train)\n",
    "\n",
    "from sklearn.metrics import accuracy_score\n",
    "\n",
    "accuracy_score(y_test,y_predtest5)\n",
    "accuracy_score(y_train,y_predtrain5)\n",
    "\n",
    "\n",
    "print (\"The Training Accuracy is\",accuracy_score(y_train,y_predtrain5)*100,\"%\")\n",
    "print (\"The Test Accuracy is\",accuracy_score(y_test,y_predtest5)*100,\"%\")"
   ]
  },
  {
   "cell_type": "code",
   "execution_count": 526,
   "metadata": {},
   "outputs": [
    {
     "name": "stdout",
     "output_type": "stream",
     "text": [
      "[[347  31]\n",
      " [ 50  72]]\n",
      "[[1504    9]\n",
      " [   2 1511]]\n"
     ]
    }
   ],
   "source": [
    "from sklearn.metrics import confusion_matrix\n",
    "cm1 = confusion_matrix(y_test, y_predtest5)\n",
    "print(cm1)\n",
    "\n",
    "cm2 = confusion_matrix(y_train, y_predtrain5)\n",
    "print(cm2)"
   ]
  },
  {
   "cell_type": "markdown",
   "metadata": {},
   "source": [
    "#### Better Entropy 2"
   ]
  },
  {
   "cell_type": "code",
   "execution_count": 246,
   "metadata": {},
   "outputs": [
    {
     "name": "stdout",
     "output_type": "stream",
     "text": [
      "Best Parameters:{'max_depth': 23, 'max_features': 25, 'max_leaf_nodes': 145, 'n_estimators': 37}\n",
      "{'max_depth': 23, 'max_features': 25, 'max_leaf_nodes': 145, 'n_estimators': 37}\n"
     ]
    }
   ],
   "source": [
    "from sklearn.ensemble import RandomForestClassifier\n",
    "from sklearn.model_selection import GridSearchCV\n",
    "\n",
    "best = RandomForestClassifier(random_state =0, criterion='entropy', min_samples_split=2, min_samples_leaf=1)\n",
    "best_grid = GridSearchCV(best,{ 'n_estimators': range(25,45,3),\n",
    "                                'max_depth': np.arange(5,25,3),\n",
    "                                'max_features':range(10,64,3),\n",
    "                                'max_leaf_nodes':range(100,150,5)})\n",
    "\n",
    "\n",
    "best_grid.fit(x_train, y_train)    \n",
    "print('Best Parameters:{}'.format(best_grid.best_params_))\n",
    "print(best_grid.best_params_)"
   ]
  },
  {
   "cell_type": "code",
   "execution_count": 527,
   "metadata": {},
   "outputs": [
    {
     "name": "stdout",
     "output_type": "stream",
     "text": [
      "The Training Accuracy is 99.2729676140119 %\n",
      "The Test Accuracy is 85.0 %\n"
     ]
    }
   ],
   "source": [
    "model6 = RandomForestClassifier(criterion='entropy', n_estimators=40, max_features=30, min_samples_leaf= 4, min_samples_split=7,max_depth=20, max_leaf_nodes=150, random_state=0)\n",
    "model6.fit(x_train,y_train)\n",
    "\n",
    "# Predicting a new result\n",
    "y_predtest6 = model6.predict(x_test)\n",
    "y_predtrain6 = model6.predict(x_train)\n",
    "\n",
    "from sklearn.metrics import accuracy_score\n",
    "\n",
    "accuracy_score(y_test,y_predtest6)\n",
    "accuracy_score(y_train,y_predtrain6)\n",
    "\n",
    "\n",
    "print (\"The Training Accuracy is\",accuracy_score(y_train,y_predtrain6)*100,\"%\")\n",
    "print (\"The Test Accuracy is\",accuracy_score(y_test,y_predtest6)*100,\"%\")"
   ]
  },
  {
   "cell_type": "code",
   "execution_count": 528,
   "metadata": {},
   "outputs": [
    {
     "name": "stdout",
     "output_type": "stream",
     "text": [
      "[[343  35]\n",
      " [ 40  82]]\n",
      "[[1496   17]\n",
      " [   5 1508]]\n"
     ]
    }
   ],
   "source": [
    "from sklearn.metrics import confusion_matrix\n",
    "cm1 = confusion_matrix(y_test, y_predtest6)\n",
    "print(cm1)\n",
    "\n",
    "cm2 = confusion_matrix(y_train, y_predtrain6)\n",
    "print(cm2)"
   ]
  },
  {
   "cell_type": "markdown",
   "metadata": {},
   "source": [
    "### The balanced error rate for the model (Best Entropy 2 - Model 6) is 20.97 "
   ]
  },
  {
   "cell_type": "markdown",
   "metadata": {},
   "source": [
    "## Now we extrapolate the Random Forest to the entire training data "
   ]
  },
  {
   "cell_type": "markdown",
   "metadata": {},
   "source": [
    "## Fitting for the entire model  "
   ]
  },
  {
   "cell_type": "markdown",
   "metadata": {},
   "source": [
    "## Load Train Data  "
   ]
  },
  {
   "cell_type": "code",
   "execution_count": 536,
   "metadata": {},
   "outputs": [
    {
     "data": {
      "text/plain": [
       "(2500, 67)"
      ]
     },
     "execution_count": 536,
     "metadata": {},
     "output_type": "execute_result"
    }
   ],
   "source": [
    "# Load Data \n",
    "\n",
    "maindata = pd.read_csv(\"train.csv\")\n",
    "\n",
    "maindata.shape"
   ]
  },
  {
   "cell_type": "markdown",
   "metadata": {},
   "source": [
    "## Load Test Data  "
   ]
  },
  {
   "cell_type": "code",
   "execution_count": 537,
   "metadata": {},
   "outputs": [
    {
     "data": {
      "text/plain": [
       "(1647, 66)"
      ]
     },
     "execution_count": 537,
     "metadata": {},
     "output_type": "execute_result"
    }
   ],
   "source": [
    "# Load Data \n",
    "\n",
    "testdata = pd.read_csv(\"testbmi.csv\")\n",
    "\n",
    "testdata.shape"
   ]
  },
  {
   "cell_type": "code",
   "execution_count": 538,
   "metadata": {},
   "outputs": [
    {
     "data": {
      "text/html": [
       "<div>\n",
       "<style scoped>\n",
       "    .dataframe tbody tr th:only-of-type {\n",
       "        vertical-align: middle;\n",
       "    }\n",
       "\n",
       "    .dataframe tbody tr th {\n",
       "        vertical-align: top;\n",
       "    }\n",
       "\n",
       "    .dataframe thead th {\n",
       "        text-align: right;\n",
       "    }\n",
       "</style>\n",
       "<table border=\"1\" class=\"dataframe\">\n",
       "  <thead>\n",
       "    <tr style=\"text-align: right;\">\n",
       "      <th></th>\n",
       "      <th>x1</th>\n",
       "      <th>x2</th>\n",
       "      <th>x3</th>\n",
       "      <th>x4</th>\n",
       "      <th>x5</th>\n",
       "      <th>x6</th>\n",
       "      <th>x7</th>\n",
       "      <th>x8</th>\n",
       "      <th>x9</th>\n",
       "      <th>x10</th>\n",
       "      <th>...</th>\n",
       "      <th>x58</th>\n",
       "      <th>x59</th>\n",
       "      <th>x60</th>\n",
       "      <th>x61</th>\n",
       "      <th>x62</th>\n",
       "      <th>x63</th>\n",
       "      <th>x64</th>\n",
       "      <th>x65</th>\n",
       "      <th>x66</th>\n",
       "      <th>y</th>\n",
       "    </tr>\n",
       "  </thead>\n",
       "  <tbody>\n",
       "    <tr>\n",
       "      <th>0</th>\n",
       "      <td>27</td>\n",
       "      <td>1</td>\n",
       "      <td>1</td>\n",
       "      <td>1</td>\n",
       "      <td>A</td>\n",
       "      <td>18</td>\n",
       "      <td>3</td>\n",
       "      <td>1</td>\n",
       "      <td>28</td>\n",
       "      <td>119.9</td>\n",
       "      <td>...</td>\n",
       "      <td>1</td>\n",
       "      <td>0</td>\n",
       "      <td>0</td>\n",
       "      <td>0</td>\n",
       "      <td>0</td>\n",
       "      <td>1</td>\n",
       "      <td>Mp</td>\n",
       "      <td>NPT</td>\n",
       "      <td>1</td>\n",
       "      <td>-1</td>\n",
       "    </tr>\n",
       "    <tr>\n",
       "      <th>1</th>\n",
       "      <td>30</td>\n",
       "      <td>0</td>\n",
       "      <td>1</td>\n",
       "      <td>1</td>\n",
       "      <td>B</td>\n",
       "      <td>18</td>\n",
       "      <td>13</td>\n",
       "      <td>3</td>\n",
       "      <td>19</td>\n",
       "      <td>86.7</td>\n",
       "      <td>...</td>\n",
       "      <td>1</td>\n",
       "      <td>0</td>\n",
       "      <td>0</td>\n",
       "      <td>0</td>\n",
       "      <td>0</td>\n",
       "      <td>0</td>\n",
       "      <td>Mm</td>\n",
       "      <td>NST</td>\n",
       "      <td>1</td>\n",
       "      <td>-1</td>\n",
       "    </tr>\n",
       "    <tr>\n",
       "      <th>2</th>\n",
       "      <td>37</td>\n",
       "      <td>0</td>\n",
       "      <td>1</td>\n",
       "      <td>1</td>\n",
       "      <td>A</td>\n",
       "      <td>1</td>\n",
       "      <td>3</td>\n",
       "      <td>14</td>\n",
       "      <td>33</td>\n",
       "      <td>174.0</td>\n",
       "      <td>...</td>\n",
       "      <td>1</td>\n",
       "      <td>0</td>\n",
       "      <td>0</td>\n",
       "      <td>0</td>\n",
       "      <td>0</td>\n",
       "      <td>0</td>\n",
       "      <td>Mp</td>\n",
       "      <td>NPT</td>\n",
       "      <td>0</td>\n",
       "      <td>1</td>\n",
       "    </tr>\n",
       "    <tr>\n",
       "      <th>3</th>\n",
       "      <td>29</td>\n",
       "      <td>0</td>\n",
       "      <td>1</td>\n",
       "      <td>1</td>\n",
       "      <td>C</td>\n",
       "      <td>14</td>\n",
       "      <td>9</td>\n",
       "      <td>3</td>\n",
       "      <td>29</td>\n",
       "      <td>8.8</td>\n",
       "      <td>...</td>\n",
       "      <td>0</td>\n",
       "      <td>0</td>\n",
       "      <td>0</td>\n",
       "      <td>0</td>\n",
       "      <td>0</td>\n",
       "      <td>0</td>\n",
       "      <td>Mp</td>\n",
       "      <td>NST</td>\n",
       "      <td>0</td>\n",
       "      <td>-1</td>\n",
       "    </tr>\n",
       "    <tr>\n",
       "      <th>4</th>\n",
       "      <td>33</td>\n",
       "      <td>1</td>\n",
       "      <td>1</td>\n",
       "      <td>0</td>\n",
       "      <td>E</td>\n",
       "      <td>2</td>\n",
       "      <td>15</td>\n",
       "      <td>12</td>\n",
       "      <td>39</td>\n",
       "      <td>55.0</td>\n",
       "      <td>...</td>\n",
       "      <td>1</td>\n",
       "      <td>0</td>\n",
       "      <td>0</td>\n",
       "      <td>0</td>\n",
       "      <td>0</td>\n",
       "      <td>0</td>\n",
       "      <td>Mm</td>\n",
       "      <td>NST</td>\n",
       "      <td>1</td>\n",
       "      <td>-1</td>\n",
       "    </tr>\n",
       "  </tbody>\n",
       "</table>\n",
       "<p>5 rows × 67 columns</p>\n",
       "</div>"
      ],
      "text/plain": [
       "   x1  x2  x3  x4 x5  x6  x7  x8  x9    x10 ...  x58  x59 x60  x61  x62  x63  \\\n",
       "0  27   1   1   1  A  18   3   1  28  119.9 ...    1    0   0    0    0    1   \n",
       "1  30   0   1   1  B  18  13   3  19   86.7 ...    1    0   0    0    0    0   \n",
       "2  37   0   1   1  A   1   3  14  33  174.0 ...    1    0   0    0    0    0   \n",
       "3  29   0   1   1  C  14   9   3  29    8.8 ...    0    0   0    0    0    0   \n",
       "4  33   1   1   0  E   2  15  12  39   55.0 ...    1    0   0    0    0    0   \n",
       "\n",
       "   x64  x65  x66  y  \n",
       "0   Mp  NPT    1 -1  \n",
       "1   Mm  NST    1 -1  \n",
       "2   Mp  NPT    0  1  \n",
       "3   Mp  NST    0 -1  \n",
       "4   Mm  NST    1 -1  \n",
       "\n",
       "[5 rows x 67 columns]"
      ]
     },
     "execution_count": 538,
     "metadata": {},
     "output_type": "execute_result"
    }
   ],
   "source": [
    "maindata.head()"
   ]
  },
  {
   "cell_type": "code",
   "execution_count": 539,
   "metadata": {},
   "outputs": [
    {
     "data": {
      "text/html": [
       "<div>\n",
       "<style scoped>\n",
       "    .dataframe tbody tr th:only-of-type {\n",
       "        vertical-align: middle;\n",
       "    }\n",
       "\n",
       "    .dataframe tbody tr th {\n",
       "        vertical-align: top;\n",
       "    }\n",
       "\n",
       "    .dataframe thead th {\n",
       "        text-align: right;\n",
       "    }\n",
       "</style>\n",
       "<table border=\"1\" class=\"dataframe\">\n",
       "  <thead>\n",
       "    <tr style=\"text-align: right;\">\n",
       "      <th></th>\n",
       "      <th>x1</th>\n",
       "      <th>x2</th>\n",
       "      <th>x3</th>\n",
       "      <th>x4</th>\n",
       "      <th>x5</th>\n",
       "      <th>x6</th>\n",
       "      <th>x7</th>\n",
       "      <th>x8</th>\n",
       "      <th>x9</th>\n",
       "      <th>x10</th>\n",
       "      <th>...</th>\n",
       "      <th>x57</th>\n",
       "      <th>x58</th>\n",
       "      <th>x59</th>\n",
       "      <th>x60</th>\n",
       "      <th>x61</th>\n",
       "      <th>x62</th>\n",
       "      <th>x63</th>\n",
       "      <th>x64</th>\n",
       "      <th>x65</th>\n",
       "      <th>x66</th>\n",
       "    </tr>\n",
       "  </thead>\n",
       "  <tbody>\n",
       "    <tr>\n",
       "      <th>0</th>\n",
       "      <td>30</td>\n",
       "      <td>1</td>\n",
       "      <td>1</td>\n",
       "      <td>0</td>\n",
       "      <td>A</td>\n",
       "      <td>16</td>\n",
       "      <td>5</td>\n",
       "      <td>2</td>\n",
       "      <td>28</td>\n",
       "      <td>148.1</td>\n",
       "      <td>...</td>\n",
       "      <td>0</td>\n",
       "      <td>1</td>\n",
       "      <td>0</td>\n",
       "      <td>0</td>\n",
       "      <td>0</td>\n",
       "      <td>0</td>\n",
       "      <td>1</td>\n",
       "      <td>Mp</td>\n",
       "      <td>NPT</td>\n",
       "      <td>1</td>\n",
       "    </tr>\n",
       "    <tr>\n",
       "      <th>1</th>\n",
       "      <td>41</td>\n",
       "      <td>0</td>\n",
       "      <td>1</td>\n",
       "      <td>1</td>\n",
       "      <td>C</td>\n",
       "      <td>8</td>\n",
       "      <td>3</td>\n",
       "      <td>9</td>\n",
       "      <td>34</td>\n",
       "      <td>143.4</td>\n",
       "      <td>...</td>\n",
       "      <td>0</td>\n",
       "      <td>1</td>\n",
       "      <td>0</td>\n",
       "      <td>0</td>\n",
       "      <td>0</td>\n",
       "      <td>0</td>\n",
       "      <td>0</td>\n",
       "      <td>Ma</td>\n",
       "      <td>PT</td>\n",
       "      <td>1</td>\n",
       "    </tr>\n",
       "    <tr>\n",
       "      <th>2</th>\n",
       "      <td>24</td>\n",
       "      <td>0</td>\n",
       "      <td>1</td>\n",
       "      <td>0</td>\n",
       "      <td>E</td>\n",
       "      <td>5</td>\n",
       "      <td>1</td>\n",
       "      <td>6</td>\n",
       "      <td>27</td>\n",
       "      <td>199.2</td>\n",
       "      <td>...</td>\n",
       "      <td>0</td>\n",
       "      <td>0</td>\n",
       "      <td>0</td>\n",
       "      <td>0</td>\n",
       "      <td>0</td>\n",
       "      <td>0</td>\n",
       "      <td>1</td>\n",
       "      <td>Mp</td>\n",
       "      <td>ST</td>\n",
       "      <td>1</td>\n",
       "    </tr>\n",
       "    <tr>\n",
       "      <th>3</th>\n",
       "      <td>36</td>\n",
       "      <td>1</td>\n",
       "      <td>1</td>\n",
       "      <td>0</td>\n",
       "      <td>A</td>\n",
       "      <td>17</td>\n",
       "      <td>11</td>\n",
       "      <td>8</td>\n",
       "      <td>35</td>\n",
       "      <td>99.4</td>\n",
       "      <td>...</td>\n",
       "      <td>0</td>\n",
       "      <td>1</td>\n",
       "      <td>0</td>\n",
       "      <td>0</td>\n",
       "      <td>0</td>\n",
       "      <td>0</td>\n",
       "      <td>0</td>\n",
       "      <td>Mp</td>\n",
       "      <td>NPT</td>\n",
       "      <td>1</td>\n",
       "    </tr>\n",
       "    <tr>\n",
       "      <th>4</th>\n",
       "      <td>19</td>\n",
       "      <td>0</td>\n",
       "      <td>1</td>\n",
       "      <td>1</td>\n",
       "      <td>C</td>\n",
       "      <td>1</td>\n",
       "      <td>0</td>\n",
       "      <td>14</td>\n",
       "      <td>27</td>\n",
       "      <td>104.0</td>\n",
       "      <td>...</td>\n",
       "      <td>0</td>\n",
       "      <td>1</td>\n",
       "      <td>0</td>\n",
       "      <td>0</td>\n",
       "      <td>0</td>\n",
       "      <td>0</td>\n",
       "      <td>1</td>\n",
       "      <td>Ma</td>\n",
       "      <td>PT</td>\n",
       "      <td>1</td>\n",
       "    </tr>\n",
       "  </tbody>\n",
       "</table>\n",
       "<p>5 rows × 66 columns</p>\n",
       "</div>"
      ],
      "text/plain": [
       "   x1  x2  x3  x4 x5  x6  x7  x8  x9    x10 ...   x57  x58 x59  x60  x61  x62  \\\n",
       "0  30   1   1   0  A  16   5   2  28  148.1 ...     0    1   0    0    0    0   \n",
       "1  41   0   1   1  C   8   3   9  34  143.4 ...     0    1   0    0    0    0   \n",
       "2  24   0   1   0  E   5   1   6  27  199.2 ...     0    0   0    0    0    0   \n",
       "3  36   1   1   0  A  17  11   8  35   99.4 ...     0    1   0    0    0    0   \n",
       "4  19   0   1   1  C   1   0  14  27  104.0 ...     0    1   0    0    0    0   \n",
       "\n",
       "   x63  x64  x65  x66  \n",
       "0    1   Mp  NPT    1  \n",
       "1    0   Ma   PT    1  \n",
       "2    1   Mp   ST    1  \n",
       "3    0   Mp  NPT    1  \n",
       "4    1   Ma   PT    1  \n",
       "\n",
       "[5 rows x 66 columns]"
      ]
     },
     "execution_count": 539,
     "metadata": {},
     "output_type": "execute_result"
    }
   ],
   "source": [
    "testdata.head()"
   ]
  },
  {
   "cell_type": "markdown",
   "metadata": {},
   "source": [
    "## Class Distribution"
   ]
  },
  {
   "cell_type": "code",
   "execution_count": 540,
   "metadata": {},
   "outputs": [
    {
     "data": {
      "text/plain": [
       "<matplotlib.axes._subplots.AxesSubplot at 0x1a1d8a2e80>"
      ]
     },
     "execution_count": 540,
     "metadata": {},
     "output_type": "execute_result"
    },
    {
     "data": {
      "image/png": "[encoded data removed]",
      "text/plain": [
       "<Figure size 432x288 with 1 Axes>"
      ]
     },
     "metadata": {},
     "output_type": "display_data"
    }
   ],
   "source": [
    "# Now lets check the class distributions\n",
    "\n",
    "import matplotlib.pyplot as plt \n",
    "import seaborn as sns \n",
    "\n",
    "%matplotlib inline \n",
    "\n",
    "sns.countplot(\"y\",data=maindata)"
   ]
  },
  {
   "cell_type": "markdown",
   "metadata": {},
   "source": [
    "## Handling Categorical Variables  "
   ]
  },
  {
   "cell_type": "code",
   "execution_count": 541,
   "metadata": {},
   "outputs": [
    {
     "data": {
      "text/html": [
       "<div>\n",
       "<style scoped>\n",
       "    .dataframe tbody tr th:only-of-type {\n",
       "        vertical-align: middle;\n",
       "    }\n",
       "\n",
       "    .dataframe tbody tr th {\n",
       "        vertical-align: top;\n",
       "    }\n",
       "\n",
       "    .dataframe thead th {\n",
       "        text-align: right;\n",
       "    }\n",
       "</style>\n",
       "<table border=\"1\" class=\"dataframe\">\n",
       "  <thead>\n",
       "    <tr style=\"text-align: right;\">\n",
       "      <th></th>\n",
       "      <th>x1</th>\n",
       "      <th>x2</th>\n",
       "      <th>x3</th>\n",
       "      <th>x4</th>\n",
       "      <th>x5</th>\n",
       "      <th>x6</th>\n",
       "      <th>x7</th>\n",
       "      <th>x8</th>\n",
       "      <th>x9</th>\n",
       "      <th>x10</th>\n",
       "      <th>...</th>\n",
       "      <th>x58</th>\n",
       "      <th>x59</th>\n",
       "      <th>x60</th>\n",
       "      <th>x61</th>\n",
       "      <th>x62</th>\n",
       "      <th>x63</th>\n",
       "      <th>x64</th>\n",
       "      <th>x65</th>\n",
       "      <th>x66</th>\n",
       "      <th>y</th>\n",
       "    </tr>\n",
       "  </thead>\n",
       "  <tbody>\n",
       "    <tr>\n",
       "      <th>0</th>\n",
       "      <td>27</td>\n",
       "      <td>1</td>\n",
       "      <td>1</td>\n",
       "      <td>1</td>\n",
       "      <td>0</td>\n",
       "      <td>18</td>\n",
       "      <td>3</td>\n",
       "      <td>1</td>\n",
       "      <td>28</td>\n",
       "      <td>119.9</td>\n",
       "      <td>...</td>\n",
       "      <td>1</td>\n",
       "      <td>0</td>\n",
       "      <td>0</td>\n",
       "      <td>0</td>\n",
       "      <td>0</td>\n",
       "      <td>1</td>\n",
       "      <td>3</td>\n",
       "      <td>0</td>\n",
       "      <td>1</td>\n",
       "      <td>-1</td>\n",
       "    </tr>\n",
       "    <tr>\n",
       "      <th>1</th>\n",
       "      <td>30</td>\n",
       "      <td>0</td>\n",
       "      <td>1</td>\n",
       "      <td>1</td>\n",
       "      <td>1</td>\n",
       "      <td>18</td>\n",
       "      <td>13</td>\n",
       "      <td>3</td>\n",
       "      <td>19</td>\n",
       "      <td>86.7</td>\n",
       "      <td>...</td>\n",
       "      <td>1</td>\n",
       "      <td>0</td>\n",
       "      <td>0</td>\n",
       "      <td>0</td>\n",
       "      <td>0</td>\n",
       "      <td>0</td>\n",
       "      <td>2</td>\n",
       "      <td>1</td>\n",
       "      <td>1</td>\n",
       "      <td>-1</td>\n",
       "    </tr>\n",
       "    <tr>\n",
       "      <th>2</th>\n",
       "      <td>37</td>\n",
       "      <td>0</td>\n",
       "      <td>1</td>\n",
       "      <td>1</td>\n",
       "      <td>0</td>\n",
       "      <td>1</td>\n",
       "      <td>3</td>\n",
       "      <td>14</td>\n",
       "      <td>33</td>\n",
       "      <td>174.0</td>\n",
       "      <td>...</td>\n",
       "      <td>1</td>\n",
       "      <td>0</td>\n",
       "      <td>0</td>\n",
       "      <td>0</td>\n",
       "      <td>0</td>\n",
       "      <td>0</td>\n",
       "      <td>3</td>\n",
       "      <td>0</td>\n",
       "      <td>0</td>\n",
       "      <td>1</td>\n",
       "    </tr>\n",
       "    <tr>\n",
       "      <th>3</th>\n",
       "      <td>29</td>\n",
       "      <td>0</td>\n",
       "      <td>1</td>\n",
       "      <td>1</td>\n",
       "      <td>2</td>\n",
       "      <td>14</td>\n",
       "      <td>9</td>\n",
       "      <td>3</td>\n",
       "      <td>29</td>\n",
       "      <td>8.8</td>\n",
       "      <td>...</td>\n",
       "      <td>0</td>\n",
       "      <td>0</td>\n",
       "      <td>0</td>\n",
       "      <td>0</td>\n",
       "      <td>0</td>\n",
       "      <td>0</td>\n",
       "      <td>3</td>\n",
       "      <td>1</td>\n",
       "      <td>0</td>\n",
       "      <td>-1</td>\n",
       "    </tr>\n",
       "    <tr>\n",
       "      <th>4</th>\n",
       "      <td>33</td>\n",
       "      <td>1</td>\n",
       "      <td>1</td>\n",
       "      <td>0</td>\n",
       "      <td>4</td>\n",
       "      <td>2</td>\n",
       "      <td>15</td>\n",
       "      <td>12</td>\n",
       "      <td>39</td>\n",
       "      <td>55.0</td>\n",
       "      <td>...</td>\n",
       "      <td>1</td>\n",
       "      <td>0</td>\n",
       "      <td>0</td>\n",
       "      <td>0</td>\n",
       "      <td>0</td>\n",
       "      <td>0</td>\n",
       "      <td>2</td>\n",
       "      <td>1</td>\n",
       "      <td>1</td>\n",
       "      <td>-1</td>\n",
       "    </tr>\n",
       "  </tbody>\n",
       "</table>\n",
       "<p>5 rows × 67 columns</p>\n",
       "</div>"
      ],
      "text/plain": [
       "   x1  x2  x3  x4  x5  x6  x7  x8  x9    x10 ...  x58  x59  x60  x61  x62  \\\n",
       "0  27   1   1   1   0  18   3   1  28  119.9 ...    1    0    0    0    0   \n",
       "1  30   0   1   1   1  18  13   3  19   86.7 ...    1    0    0    0    0   \n",
       "2  37   0   1   1   0   1   3  14  33  174.0 ...    1    0    0    0    0   \n",
       "3  29   0   1   1   2  14   9   3  29    8.8 ...    0    0    0    0    0   \n",
       "4  33   1   1   0   4   2  15  12  39   55.0 ...    1    0    0    0    0   \n",
       "\n",
       "   x63  x64  x65  x66  y  \n",
       "0    1    3    0    1 -1  \n",
       "1    0    2    1    1 -1  \n",
       "2    0    3    0    0  1  \n",
       "3    0    3    1    0 -1  \n",
       "4    0    2    1    1 -1  \n",
       "\n",
       "[5 rows x 67 columns]"
      ]
     },
     "execution_count": 541,
     "metadata": {},
     "output_type": "execute_result"
    }
   ],
   "source": [
    "from sklearn.preprocessing import LabelEncoder\n",
    "le = LabelEncoder()\n",
    "\n",
    "maindata['x5'] = le.fit_transform(maindata['x5'])\n",
    "maindata['x13'] = le.fit_transform(maindata['x13'])\n",
    "maindata['x64'] = le.fit_transform(maindata['x64'])\n",
    "maindata['x65'] = le.fit_transform(maindata['x65'])\n",
    "\n",
    "maindata.head()"
   ]
  },
  {
   "cell_type": "code",
   "execution_count": 542,
   "metadata": {},
   "outputs": [
    {
     "data": {
      "text/html": [
       "<div>\n",
       "<style scoped>\n",
       "    .dataframe tbody tr th:only-of-type {\n",
       "        vertical-align: middle;\n",
       "    }\n",
       "\n",
       "    .dataframe tbody tr th {\n",
       "        vertical-align: top;\n",
       "    }\n",
       "\n",
       "    .dataframe thead th {\n",
       "        text-align: right;\n",
       "    }\n",
       "</style>\n",
       "<table border=\"1\" class=\"dataframe\">\n",
       "  <thead>\n",
       "    <tr style=\"text-align: right;\">\n",
       "      <th></th>\n",
       "      <th>x1</th>\n",
       "      <th>x2</th>\n",
       "      <th>x3</th>\n",
       "      <th>x4</th>\n",
       "      <th>x5</th>\n",
       "      <th>x6</th>\n",
       "      <th>x7</th>\n",
       "      <th>x8</th>\n",
       "      <th>x9</th>\n",
       "      <th>x10</th>\n",
       "      <th>...</th>\n",
       "      <th>x57</th>\n",
       "      <th>x58</th>\n",
       "      <th>x59</th>\n",
       "      <th>x60</th>\n",
       "      <th>x61</th>\n",
       "      <th>x62</th>\n",
       "      <th>x63</th>\n",
       "      <th>x64</th>\n",
       "      <th>x65</th>\n",
       "      <th>x66</th>\n",
       "    </tr>\n",
       "  </thead>\n",
       "  <tbody>\n",
       "    <tr>\n",
       "      <th>0</th>\n",
       "      <td>30</td>\n",
       "      <td>1</td>\n",
       "      <td>1</td>\n",
       "      <td>0</td>\n",
       "      <td>0</td>\n",
       "      <td>16</td>\n",
       "      <td>5</td>\n",
       "      <td>2</td>\n",
       "      <td>28</td>\n",
       "      <td>148.1</td>\n",
       "      <td>...</td>\n",
       "      <td>0</td>\n",
       "      <td>1</td>\n",
       "      <td>0</td>\n",
       "      <td>0</td>\n",
       "      <td>0</td>\n",
       "      <td>0</td>\n",
       "      <td>1</td>\n",
       "      <td>1</td>\n",
       "      <td>0</td>\n",
       "      <td>1</td>\n",
       "    </tr>\n",
       "    <tr>\n",
       "      <th>1</th>\n",
       "      <td>41</td>\n",
       "      <td>0</td>\n",
       "      <td>1</td>\n",
       "      <td>1</td>\n",
       "      <td>1</td>\n",
       "      <td>8</td>\n",
       "      <td>3</td>\n",
       "      <td>9</td>\n",
       "      <td>34</td>\n",
       "      <td>143.4</td>\n",
       "      <td>...</td>\n",
       "      <td>0</td>\n",
       "      <td>1</td>\n",
       "      <td>0</td>\n",
       "      <td>0</td>\n",
       "      <td>0</td>\n",
       "      <td>0</td>\n",
       "      <td>0</td>\n",
       "      <td>0</td>\n",
       "      <td>1</td>\n",
       "      <td>1</td>\n",
       "    </tr>\n",
       "    <tr>\n",
       "      <th>2</th>\n",
       "      <td>24</td>\n",
       "      <td>0</td>\n",
       "      <td>1</td>\n",
       "      <td>0</td>\n",
       "      <td>2</td>\n",
       "      <td>5</td>\n",
       "      <td>1</td>\n",
       "      <td>6</td>\n",
       "      <td>27</td>\n",
       "      <td>199.2</td>\n",
       "      <td>...</td>\n",
       "      <td>0</td>\n",
       "      <td>0</td>\n",
       "      <td>0</td>\n",
       "      <td>0</td>\n",
       "      <td>0</td>\n",
       "      <td>0</td>\n",
       "      <td>1</td>\n",
       "      <td>1</td>\n",
       "      <td>2</td>\n",
       "      <td>1</td>\n",
       "    </tr>\n",
       "    <tr>\n",
       "      <th>3</th>\n",
       "      <td>36</td>\n",
       "      <td>1</td>\n",
       "      <td>1</td>\n",
       "      <td>0</td>\n",
       "      <td>0</td>\n",
       "      <td>17</td>\n",
       "      <td>11</td>\n",
       "      <td>8</td>\n",
       "      <td>35</td>\n",
       "      <td>99.4</td>\n",
       "      <td>...</td>\n",
       "      <td>0</td>\n",
       "      <td>1</td>\n",
       "      <td>0</td>\n",
       "      <td>0</td>\n",
       "      <td>0</td>\n",
       "      <td>0</td>\n",
       "      <td>0</td>\n",
       "      <td>1</td>\n",
       "      <td>0</td>\n",
       "      <td>1</td>\n",
       "    </tr>\n",
       "    <tr>\n",
       "      <th>4</th>\n",
       "      <td>19</td>\n",
       "      <td>0</td>\n",
       "      <td>1</td>\n",
       "      <td>1</td>\n",
       "      <td>1</td>\n",
       "      <td>1</td>\n",
       "      <td>0</td>\n",
       "      <td>14</td>\n",
       "      <td>27</td>\n",
       "      <td>104.0</td>\n",
       "      <td>...</td>\n",
       "      <td>0</td>\n",
       "      <td>1</td>\n",
       "      <td>0</td>\n",
       "      <td>0</td>\n",
       "      <td>0</td>\n",
       "      <td>0</td>\n",
       "      <td>1</td>\n",
       "      <td>0</td>\n",
       "      <td>1</td>\n",
       "      <td>1</td>\n",
       "    </tr>\n",
       "  </tbody>\n",
       "</table>\n",
       "<p>5 rows × 66 columns</p>\n",
       "</div>"
      ],
      "text/plain": [
       "   x1  x2  x3  x4  x5  x6  x7  x8  x9    x10 ...   x57  x58  x59  x60  x61  \\\n",
       "0  30   1   1   0   0  16   5   2  28  148.1 ...     0    1    0    0    0   \n",
       "1  41   0   1   1   1   8   3   9  34  143.4 ...     0    1    0    0    0   \n",
       "2  24   0   1   0   2   5   1   6  27  199.2 ...     0    0    0    0    0   \n",
       "3  36   1   1   0   0  17  11   8  35   99.4 ...     0    1    0    0    0   \n",
       "4  19   0   1   1   1   1   0  14  27  104.0 ...     0    1    0    0    0   \n",
       "\n",
       "   x62  x63  x64  x65  x66  \n",
       "0    0    1    1    0    1  \n",
       "1    0    0    0    1    1  \n",
       "2    0    1    1    2    1  \n",
       "3    0    0    1    0    1  \n",
       "4    0    1    0    1    1  \n",
       "\n",
       "[5 rows x 66 columns]"
      ]
     },
     "execution_count": 542,
     "metadata": {},
     "output_type": "execute_result"
    }
   ],
   "source": [
    "from sklearn.preprocessing import LabelEncoder\n",
    "le = LabelEncoder()\n",
    "\n",
    "testdata['x5'] = le.fit_transform(testdata['x5'])\n",
    "testdata['x13'] = le.fit_transform(testdata['x13'])\n",
    "testdata['x64'] = le.fit_transform(testdata['x64'])\n",
    "testdata['x65'] = le.fit_transform(testdata['x65'])\n",
    "\n",
    "testdata.head()"
   ]
  },
  {
   "cell_type": "markdown",
   "metadata": {},
   "source": [
    "## Upsampling the Training data  "
   ]
  },
  {
   "cell_type": "code",
   "execution_count": 543,
   "metadata": {},
   "outputs": [
    {
     "data": {
      "text/plain": [
       "-1    1891\n",
       " 1     609\n",
       "Name: y, dtype: int64"
      ]
     },
     "execution_count": 543,
     "metadata": {},
     "output_type": "execute_result"
    }
   ],
   "source": [
    "maindata['y'].value_counts()"
   ]
  },
  {
   "cell_type": "code",
   "execution_count": 544,
   "metadata": {},
   "outputs": [],
   "source": [
    "from sklearn.utils import resample\n",
    "\n",
    "# Separate majority and minority classes\n",
    "majority = maindata[maindata.y==-1]\n",
    "minority = maindata[maindata.y==1]\n",
    "\n",
    "#Upsample Minority Class\n",
    "minority_upsampled = resample (minority, replace = True, n_samples = 1891, random_state=123)\n",
    "\n",
    "\n",
    "# Combine majority class with upsampled minority class\n",
    "upsampled = pd.concat([majority, minority_upsampled])"
   ]
  },
  {
   "cell_type": "code",
   "execution_count": 545,
   "metadata": {},
   "outputs": [
    {
     "data": {
      "text/plain": [
       "<matplotlib.axes._subplots.AxesSubplot at 0x1a1e35c978>"
      ]
     },
     "execution_count": 545,
     "metadata": {},
     "output_type": "execute_result"
    },
    {
     "data": {
      "image/png": "[encoded data removed]",
      "text/plain": [
       "<Figure size 432x288 with 1 Axes>"
      ]
     },
     "metadata": {},
     "output_type": "display_data"
    }
   ],
   "source": [
    "# Now lets check the class distributions\n",
    "\n",
    "import matplotlib.pyplot as plt \n",
    "import seaborn as sns \n",
    "\n",
    "%matplotlib inline \n",
    "\n",
    "sns.countplot(\"y\",data=upsampled)"
   ]
  },
  {
   "cell_type": "code",
   "execution_count": 546,
   "metadata": {},
   "outputs": [
    {
     "data": {
      "text/plain": [
       " 1    1891\n",
       "-1    1891\n",
       "Name: y, dtype: int64"
      ]
     },
     "execution_count": 546,
     "metadata": {},
     "output_type": "execute_result"
    }
   ],
   "source": [
    "upsampled['y'].value_counts()"
   ]
  },
  {
   "cell_type": "markdown",
   "metadata": {},
   "source": [
    "# Assigning Data to test and Train"
   ]
  },
  {
   "cell_type": "code",
   "execution_count": 547,
   "metadata": {},
   "outputs": [],
   "source": [
    "# Test Data\n",
    "xtest = testdata.iloc[:,:]\n",
    "\n",
    "#Train Data\n",
    "xtrain = upsampled.iloc[:,:-1]\n",
    "ytrain = upsampled.iloc[:,66]"
   ]
  },
  {
   "cell_type": "markdown",
   "metadata": {},
   "source": [
    "## Scaling Data  "
   ]
  },
  {
   "cell_type": "code",
   "execution_count": 548,
   "metadata": {},
   "outputs": [],
   "source": [
    "# Scaling the x values \n",
    "\n",
    "from sklearn.preprocessing import MinMaxScaler\n",
    "\n",
    "scaler = MinMaxScaler()\n",
    "scaler.fit(xtest)\n",
    "xteststd = scaler.transform(xtest)\n",
    "\n",
    "\n",
    "x_test = xteststd"
   ]
  },
  {
   "cell_type": "code",
   "execution_count": 549,
   "metadata": {},
   "outputs": [],
   "source": [
    "# Scaling the x values \n",
    "\n",
    "from sklearn.preprocessing import MinMaxScaler\n",
    "\n",
    "scaler = MinMaxScaler()\n",
    "scaler.fit(xtrain)\n",
    "xtrainstd = scaler.transform(xtrain)\n",
    "\n",
    "\n",
    "x_train = xtrainstd\n",
    "y_train = ytrain"
   ]
  },
  {
   "cell_type": "markdown",
   "metadata": {},
   "source": [
    "## Model  "
   ]
  },
  {
   "cell_type": "markdown",
   "metadata": {},
   "source": [
    "## Base Random Forest "
   ]
  },
  {
   "cell_type": "code",
   "execution_count": 413,
   "metadata": {},
   "outputs": [
    {
     "data": {
      "text/plain": [
       "RandomForestClassifier(bootstrap=True, class_weight=None, criterion='gini',\n",
       "            max_depth=None, max_features='auto', max_leaf_nodes=None,\n",
       "            min_impurity_decrease=0.0, min_impurity_split=None,\n",
       "            min_samples_leaf=1, min_samples_split=2,\n",
       "            min_weight_fraction_leaf=0.0, n_estimators=10, n_jobs=1,\n",
       "            oob_score=False, random_state=0, verbose=0, warm_start=False)"
      ]
     },
     "execution_count": 413,
     "metadata": {},
     "output_type": "execute_result"
    }
   ],
   "source": [
    "from sklearn.ensemble import RandomForestClassifier\n",
    "\n",
    "\n",
    "model1 = RandomForestClassifier(random_state=0)\n",
    "model1.fit(x_train,y_train)"
   ]
  },
  {
   "cell_type": "code",
   "execution_count": 414,
   "metadata": {},
   "outputs": [
    {
     "name": "stdout",
     "output_type": "stream",
     "text": [
      "[[1888    3]\n",
      " [   5 1886]]\n",
      "The Training Accuracy is 99.78847170809095 %\n"
     ]
    }
   ],
   "source": [
    "# Predicting a new result\n",
    "y_predtest = model1.predict(x_test)\n",
    "y_predtrain = model1.predict(x_train)\n",
    "\n",
    "\n",
    "# Making the Confusion Matrix\n",
    "from sklearn.metrics import confusion_matrix\n",
    "cm = confusion_matrix(y_train, y_predtrain)\n",
    "print(cm)\n",
    "\n",
    "from sklearn.metrics import accuracy_score\n",
    "\n",
    "accuracy_score(y_train,y_predtrain)\n",
    "\n",
    "\n",
    "print (\"The Training Accuracy is\",accuracy_score(y_train,y_predtrain)*100,\"%\")"
   ]
  },
  {
   "cell_type": "markdown",
   "metadata": {},
   "source": [
    "## Selecting the range of parameters for grid search "
   ]
  },
  {
   "cell_type": "markdown",
   "metadata": {},
   "source": [
    "## Min Samples Leaf "
   ]
  },
  {
   "cell_type": "code",
   "execution_count": 415,
   "metadata": {},
   "outputs": [
    {
     "data": {
      "image/png": "[encoded data removed]",
      "text/plain": [
       "<Figure size 432x288 with 1 Axes>"
      ]
     },
     "metadata": {},
     "output_type": "display_data"
    }
   ],
   "source": [
    "# Min Samples Leaf\n",
    "\n",
    "from sklearn.ensemble import RandomForestClassifier\n",
    "\n",
    "fig = plt.figure()\n",
    "ax0 = fig.add_subplot(111) \n",
    "acc_train = []\n",
    "for i in range(1,100):\n",
    "   \n",
    "    model = RandomForestClassifier(random_state = 0,min_samples_leaf=i)\n",
    "    model.fit(x_train,y_train)    \n",
    "    y_predtest = model.predict(x_test)\n",
    "    y_predtrain = model.predict(x_train)\n",
    "    acc_train.append(accuracy_score(y_train,y_predtrain))\n",
    "\n",
    "ax0.plot(range(1,100),acc_train,label='Train Data Accuracy')\n",
    "ax0.legend()\n",
    "ax0.set_title('Accuracy Score with respect to the Minimum Samples Leaf')\n",
    "ax0.set_xlabel('#Instances')\n",
    "ax0.set_ylabel('Accuracy')\n",
    "plt.show()"
   ]
  },
  {
   "cell_type": "markdown",
   "metadata": {},
   "source": [
    "Choosing a value between 1 and 15 will make sense. We do not want to have high Train accuracy because it might overfit"
   ]
  },
  {
   "cell_type": "markdown",
   "metadata": {},
   "source": [
    "# Max Depth "
   ]
  },
  {
   "cell_type": "code",
   "execution_count": 416,
   "metadata": {},
   "outputs": [
    {
     "data": {
      "image/png": "[encoded data removed]",
      "text/plain": [
       "<Figure size 432x288 with 1 Axes>"
      ]
     },
     "metadata": {},
     "output_type": "display_data"
    }
   ],
   "source": [
    "# Max Depth\n",
    "\n",
    "from sklearn.ensemble import RandomForestClassifier\n",
    "\n",
    "fig = plt.figure()\n",
    "ax0 = fig.add_subplot(111) \n",
    "acc_train = []\n",
    "for i in range(1,50):\n",
    "   \n",
    "    model = RandomForestClassifier(random_state = 0,max_depth=i)\n",
    "    model.fit(x_train,y_train)    \n",
    "    y_predtest = model.predict(x_test)\n",
    "    y_predtrain = model.predict(x_train)\n",
    "    acc_train.append(accuracy_score(y_train,y_predtrain))\n",
    "\n",
    "\n",
    "ax0.plot(range(1,50),acc_train,label='Train Data Accuracy')\n",
    "ax0.legend()\n",
    "ax0.set_title('Accuracy Score with respect to Max Depth')\n",
    "ax0.set_xlabel('#Instances')\n",
    "ax0.set_ylabel('Accuracy')\n",
    "plt.show()\n",
    "\n"
   ]
  },
  {
   "cell_type": "markdown",
   "metadata": {},
   "source": [
    "Choosing a value between 5 and 15 will be reasonable"
   ]
  },
  {
   "cell_type": "markdown",
   "metadata": {},
   "source": [
    "## Min Samples Split  "
   ]
  },
  {
   "cell_type": "code",
   "execution_count": 417,
   "metadata": {},
   "outputs": [
    {
     "data": {
      "image/png": "[encoded data removed]",
      "text/plain": [
       "<Figure size 432x288 with 1 Axes>"
      ]
     },
     "metadata": {},
     "output_type": "display_data"
    }
   ],
   "source": [
    "# Min Sample Split\n",
    "\n",
    "from sklearn.ensemble import RandomForestClassifier\n",
    "\n",
    "fig = plt.figure()\n",
    "ax0 = fig.add_subplot(111) \n",
    "acc_train = []\n",
    "for i in range(2,150):\n",
    "   \n",
    "    model = RandomForestClassifier(random_state = 0,min_samples_split=i)\n",
    "    model.fit(x_train,y_train)    \n",
    "    y_predtest = model.predict(x_test)\n",
    "    y_predtrain = model.predict(x_train)\n",
    "    acc_train.append(accuracy_score(y_train,y_predtrain))\n",
    "\n",
    "\n",
    "ax0.plot(range(2,150),acc_train,label='Train Data Accuracy')\n",
    "ax0.legend()\n",
    "ax0.set_title('Accuracy Score with respect to Min Samples Split ')\n",
    "ax0.set_xlabel('#Instances')\n",
    "ax0.set_ylabel('Accuracy')\n",
    "plt.show()\n",
    "\n",
    "\n"
   ]
  },
  {
   "cell_type": "markdown",
   "metadata": {},
   "source": [
    "Choosing a value between 2 and 40 will be reasonable "
   ]
  },
  {
   "cell_type": "markdown",
   "metadata": {},
   "source": [
    "# Max Features "
   ]
  },
  {
   "cell_type": "code",
   "execution_count": 418,
   "metadata": {},
   "outputs": [
    {
     "data": {
      "image/png": "[encoded data removed]",
      "text/plain": [
       "<Figure size 432x288 with 1 Axes>"
      ]
     },
     "metadata": {},
     "output_type": "display_data"
    }
   ],
   "source": [
    "# Max Features \n",
    "\n",
    "from sklearn.ensemble import RandomForestClassifier\n",
    "\n",
    "fig = plt.figure()\n",
    "ax0 = fig.add_subplot(111) \n",
    "acc_train = []\n",
    "for i in range(1,64):\n",
    "   \n",
    "    model = RandomForestClassifier(random_state = 0,max_features=i)\n",
    "    model.fit(x_train,y_train)    \n",
    "    y_predtest = model.predict(x_test)\n",
    "    y_predtrain = model.predict(x_train)\n",
    "    acc_train.append(accuracy_score(y_train,y_predtrain))\n",
    "\n",
    "ax0.plot(range(1,64),acc_train,label='Train Data Accuracy')\n",
    "ax0.legend()\n",
    "ax0.set_title('Accuracy Score with respect to Max Features')\n",
    "ax0.set_xlabel('#Instances')\n",
    "ax0.set_ylabel('Accuracy')\n",
    "plt.show()\n"
   ]
  },
  {
   "cell_type": "markdown",
   "metadata": {},
   "source": [
    "Choosing a value between 3 and 10 will be reasonable "
   ]
  },
  {
   "cell_type": "markdown",
   "metadata": {},
   "source": [
    "# Max Leaf Nodes"
   ]
  },
  {
   "cell_type": "code",
   "execution_count": 419,
   "metadata": {},
   "outputs": [
    {
     "data": {
      "image/png": "[encoded data removed]",
      "text/plain": [
       "<Figure size 432x288 with 1 Axes>"
      ]
     },
     "metadata": {},
     "output_type": "display_data"
    }
   ],
   "source": [
    "# Max Leaf Nodes\n",
    "\n",
    "from sklearn.ensemble import RandomForestClassifier\n",
    "\n",
    "fig = plt.figure()\n",
    "ax0 = fig.add_subplot(111) \n",
    "acc_train = []\n",
    "for i in range(2,300):\n",
    "   \n",
    "    model = RandomForestClassifier(random_state = 0,max_leaf_nodes=i)\n",
    "    model.fit(x_train,y_train)    \n",
    "    y_predtest = model.predict(x_test)\n",
    "    y_predtrain = model.predict(x_train)\n",
    "    acc_train.append(accuracy_score(y_train,y_predtrain))\n",
    "\n",
    "ax0.plot(range(2,300),acc_train,label='Train Data Accuracy')\n",
    "ax0.legend()\n",
    "ax0.set_title('Accuracy Score with respect to Max Leaf Nodes')\n",
    "ax0.set_xlabel('#Instances')\n",
    "ax0.set_ylabel('Accuracy')\n",
    "plt.show()\n",
    "\n",
    "\n"
   ]
  },
  {
   "cell_type": "markdown",
   "metadata": {},
   "source": [
    "Having a value between 50 and 150 will be more reasonable "
   ]
  },
  {
   "cell_type": "markdown",
   "metadata": {},
   "source": [
    "## n_estimators "
   ]
  },
  {
   "cell_type": "code",
   "execution_count": 421,
   "metadata": {},
   "outputs": [
    {
     "data": {
      "image/png": "[encoded data removed]",
      "text/plain": [
       "<Figure size 432x288 with 1 Axes>"
      ]
     },
     "metadata": {},
     "output_type": "display_data"
    }
   ],
   "source": [
    "# n_estimators\n",
    "\n",
    "from sklearn.ensemble import RandomForestClassifier\n",
    "\n",
    "fig = plt.figure()\n",
    "ax0 = fig.add_subplot(111) \n",
    "acc_train = []\n",
    "for i in range(1,100):\n",
    "   \n",
    "    model = RandomForestClassifier(random_state = 0,n_estimators=i)\n",
    "    model.fit(x_train,y_train)    \n",
    "    y_predtest = model.predict(x_test)\n",
    "    y_predtrain = model.predict(x_train)\n",
    "    acc_train.append(accuracy_score(y_train,y_predtrain))\n",
    "\n",
    "ax0.plot(range(1,100),acc_train,label='Train Data Accuracy')\n",
    "ax0.legend()\n",
    "ax0.set_title('Accuracy Score with respect to n_estimators')\n",
    "ax0.set_xlabel('#Instances')\n",
    "ax0.set_ylabel('Accuracy')\n",
    "plt.show()\n",
    "\n"
   ]
  },
  {
   "cell_type": "markdown",
   "metadata": {},
   "source": [
    "Having a score between 5 amd 20 will make sense"
   ]
  },
  {
   "cell_type": "markdown",
   "metadata": {},
   "source": [
    "# Grid Search Model "
   ]
  },
  {
   "cell_type": "markdown",
   "metadata": {},
   "source": [
    "## Gini "
   ]
  },
  {
   "cell_type": "code",
   "execution_count": 423,
   "metadata": {},
   "outputs": [
    {
     "name": "stdout",
     "output_type": "stream",
     "text": [
      "Best Parameters:{'max_depth': 20, 'max_features': 40, 'max_leaf_nodes': 100, 'n_estimators': 40}\n",
      "{'max_depth': 20, 'max_features': 40, 'max_leaf_nodes': 100, 'n_estimators': 40}\n"
     ]
    }
   ],
   "source": [
    "from sklearn.ensemble import RandomForestClassifier\n",
    "from sklearn.model_selection import GridSearchCV\n",
    "\n",
    "best = RandomForestClassifier(random_state =0, criterion='gini')\n",
    "best_grid = GridSearchCV(best,{ 'n_estimators': range(25,45,15),\n",
    "                                'max_depth': np.arange(5,25,15),\n",
    "                                'max_features':range(10,64,10),\n",
    "                                'max_leaf_nodes':range(50,150,50)})\n",
    "\n",
    "\n",
    "best_grid.fit(x_train, y_train)    \n",
    "print('Best Parameters:{}'.format(best_grid.best_params_))\n",
    "print(best_grid.best_params_)"
   ]
  },
  {
   "cell_type": "code",
   "execution_count": 424,
   "metadata": {},
   "outputs": [
    {
     "name": "stdout",
     "output_type": "stream",
     "text": [
      "The Training Accuracy is 92.57006874669487 %\n"
     ]
    }
   ],
   "source": [
    "model3 = RandomForestClassifier(criterion='gini', n_estimators=40, min_samples_leaf= 1,min_samples_split=2,max_depth=20, max_leaf_nodes=100, random_state=0)\n",
    "model3.fit(x_train,y_train)\n",
    "\n",
    "# Predicting a new result\n",
    "y_predtest3 = model3.predict(x_test)\n",
    "y_predtrain3 = model3.predict(x_train)\n",
    "\n",
    "from sklearn.metrics import accuracy_score\n",
    "accuracy_score(y_train,y_predtrain3)\n",
    "\n",
    "\n",
    "print (\"The Training Accuracy is\",accuracy_score(y_train,y_predtrain3)*100,\"%\")"
   ]
  },
  {
   "cell_type": "markdown",
   "metadata": {},
   "source": [
    "## Entropy "
   ]
  },
  {
   "cell_type": "code",
   "execution_count": 425,
   "metadata": {},
   "outputs": [
    {
     "name": "stdout",
     "output_type": "stream",
     "text": [
      "Best Parameters:{'max_depth': 20, 'max_features': 40, 'max_leaf_nodes': 140, 'n_estimators': 35}\n",
      "{'max_depth': 20, 'max_features': 40, 'max_leaf_nodes': 140, 'n_estimators': 35}\n"
     ]
    }
   ],
   "source": [
    "from sklearn.ensemble import RandomForestClassifier\n",
    "from sklearn.model_selection import GridSearchCV\n",
    "\n",
    "best = RandomForestClassifier(random_state =0, criterion='entropy', min_samples_split=2, min_samples_leaf=1)\n",
    "best_grid = GridSearchCV(best,{ 'n_estimators': range(25,45,5),\n",
    "                                'max_depth': np.arange(5,25,5),\n",
    "                                'max_features':range(10,64,5),\n",
    "                                'max_leaf_nodes':range(100,150,10)})\n",
    "\n",
    "\n",
    "best_grid.fit(x_train, y_train)    \n",
    "print('Best Parameters:{}'.format(best_grid.best_params_))\n",
    "print(best_grid.best_params_)"
   ]
  },
  {
   "cell_type": "code",
   "execution_count": 426,
   "metadata": {},
   "outputs": [
    {
     "name": "stdout",
     "output_type": "stream",
     "text": [
      "The Training Accuracy is 95.66367001586462 %\n"
     ]
    }
   ],
   "source": [
    "model4 = RandomForestClassifier(criterion='entropy', n_estimators=35, min_samples_leaf= 1,min_samples_split=2,max_depth=20, max_leaf_nodes=140, random_state=0)\n",
    "model4.fit(x_train,y_train)\n",
    "\n",
    "# Predicting a new result\n",
    "y_predtest4 = model4.predict(x_test)\n",
    "y_predtrain4 = model4.predict(x_train)\n",
    "\n",
    "from sklearn.metrics import accuracy_score\n",
    "\n",
    "accuracy_score(y_train,y_predtrain4)\n",
    "\n",
    "\n",
    "print (\"The Training Accuracy is\",accuracy_score(y_train,y_predtrain4)*100,\"%\")"
   ]
  },
  {
   "cell_type": "markdown",
   "metadata": {},
   "source": [
    "Now, based on the previous knowledge and the preliminiary grid search we fine tune the parameters to obtain a better result. "
   ]
  },
  {
   "cell_type": "markdown",
   "metadata": {},
   "source": [
    "## Best Model \n"
   ]
  },
  {
   "cell_type": "code",
   "execution_count": 550,
   "metadata": {},
   "outputs": [
    {
     "name": "stdout",
     "output_type": "stream",
     "text": [
      "The Training Accuracy is 95.42570068746696 %\n"
     ]
    }
   ],
   "source": [
    "from sklearn.ensemble import RandomForestClassifier\n",
    "model6 = RandomForestClassifier(criterion='entropy', n_estimators=7, max_features=9, min_samples_leaf= 2, min_samples_split=3,max_depth=30, max_leaf_nodes=175, random_state=0)\n",
    "model6.fit(x_train,y_train)\n",
    "\n",
    "# Predicting a new result\n",
    "y_predtest6 = model6.predict(x_test)\n",
    "y_predtrain6 = model6.predict(x_train)\n",
    "\n",
    "from sklearn.metrics import accuracy_score\n",
    "\n",
    "accuracy_score(y_train,y_predtrain6)\n",
    "\n",
    "\n",
    "print (\"The Training Accuracy is\",accuracy_score(y_train,y_predtrain6)*100,\"%\")"
   ]
  },
  {
   "cell_type": "markdown",
   "metadata": {},
   "source": [
    "## Confusion Matrix of the train data  "
   ]
  },
  {
   "cell_type": "code",
   "execution_count": 551,
   "metadata": {},
   "outputs": [
    {
     "name": "stdout",
     "output_type": "stream",
     "text": [
      "[[1756  135]\n",
      " [  38 1853]]\n"
     ]
    }
   ],
   "source": [
    "from sklearn.metrics import confusion_matrix\n",
    "\n",
    "cm2 = confusion_matrix(y_train, y_predtrain6)\n",
    "print(cm2)"
   ]
  },
  {
   "cell_type": "markdown",
   "metadata": {},
   "source": [
    "## Final Predicted Values "
   ]
  },
  {
   "cell_type": "code",
   "execution_count": 429,
   "metadata": {},
   "outputs": [
    {
     "data": {
      "text/plain": [
       "array([-1,  1, -1, ..., -1, -1, -1])"
      ]
     },
     "execution_count": 429,
     "metadata": {},
     "output_type": "execute_result"
    }
   ],
   "source": [
    "y_predtest6"
   ]
  },
  {
   "cell_type": "markdown",
   "metadata": {},
   "source": [
    "# Exporting Predicted Values to Excel "
   ]
  },
  {
   "cell_type": "code",
   "execution_count": 552,
   "metadata": {},
   "outputs": [],
   "source": [
    "import numpy as np\n",
    "np.savetxt('iee520test.csv', y_predtest6, delimiter=',', fmt='%d')\n",
    "y_predtest6 = np.loadtxt('iee520test.csv', delimiter=',')"
   ]
  },
  {
   "cell_type": "markdown",
   "metadata": {},
   "source": [
    "# The FINAL Model Choosen is RANDOM FOREST with Upsampling of data. "
   ]
  },
  {
   "cell_type": "markdown",
   "metadata": {},
   "source": [
    "## The Parameters are  "
   ]
  },
  {
   "cell_type": "markdown",
   "metadata": {},
   "source": [
    "•\tMax Features – 9\n",
    "•\tN_Estimators – 7\n",
    "•\tMin Samples Leaf – 2\n",
    "•\tMin_Samples Split – 3\n",
    "•\tMax Depth – 30 \n",
    "•\tMax Leaf Nodes – 175\n"
   ]
  }
 ],
 "metadata": {
  "kernelspec": {
   "display_name": "Python 3",
   "language": "python",
   "name": "python3"
  },
  "language_info": {
   "codemirror_mode": {
    "name": "ipython",
    "version": 3
   },
   "file_extension": ".py",
   "mimetype": "text/x-python",
   "name": "python",
   "nbconvert_exporter": "python",
   "pygments_lexer": "ipython3",
   "version": "3.6.5"
  }
 },
 "nbformat": 4,
 "nbformat_minor": 2
}
